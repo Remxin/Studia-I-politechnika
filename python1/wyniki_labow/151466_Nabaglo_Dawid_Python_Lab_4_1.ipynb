{
 "cells": [
  {
   "cell_type": "markdown",
   "metadata": {
    "deletable": false,
    "editable": false,
    "nbgrader": {
     "cell_type": "markdown",
     "checksum": "7a989f11e0a6d8809783bca66888a35d",
     "grade": false,
     "grade_id": "cell-26614cab1c00933b",
     "locked": true,
     "schema_version": 3,
     "solution": false,
     "task": false
    }
   },
   "source": [
    "# Programowanie w Pythonie\n",
    "\n",
    "\n",
    "Przed rozpoczęciem pracy z notatnikiem zmień jego nazwę zgodnie z wzorem: `NrAlbumu_Nazwisko_Imie_PoprzedniaNazwa`\n",
    "\n",
    "Przed wysłaniem notatnika **upewnij się jeszcze raz** że zmieniłeś nazwę i że rozwiązałeś wszystkie zadania/ćwiczenia, w szczególności, że uzupełniłeś wszystkie pola `YOUR CODE HERE` oraz `YOUR ANSWER HERE`."
   ]
  },
  {
   "cell_type": "markdown",
   "metadata": {
    "deletable": false,
    "editable": false,
    "nbgrader": {
     "cell_type": "markdown",
     "checksum": "de74cf3138542217ef8389408bd8ff19",
     "grade": false,
     "grade_id": "cell-51d5c973082f0959",
     "locked": true,
     "schema_version": 3,
     "solution": false
    }
   },
   "source": [
    "# Temat: Krotki. Zbiory. Słowniki.\n",
    "Zapoznaj się z treścią niniejszego notatnika czytając i wykonując go komórka po komórce. Wykonaj napotkane zadania/ćwiczenia.\n",
    "\n",
    "## Krotki\n",
    "\n",
    "\n",
    "- Krotka to nowy typ zmiennych: `tuple`. \n",
    "- Typ `immutable` - niemutowalny.\n",
    "- Składają się z pewnej liczby elementów oddzielonych przecinkiem, można je ująć w nawiasy `()` (czasami jest to wręcz konieczne gdy np. występują zagnieżdżenia lub jeśli stosujemy je w wyrażeniach).\n",
    "- Mają wiele zastosowań (np. jako para współrzędnych `(x,y)`, rekord pracowników z bazy danych itd.)\n",
    "- Nie jest możliwe przypisanie poszczególnym elementom takiej listy wartości, aczkolwiek można to zasymulować poprzez wycinanie i sklejanie. \n",
    "- Możliwe jest tworzenie krotek, które zawierają mutowalne obiekty takie jak np. listy.\n",
    "- Zwykle zawierają heterogeniczne sekwencje danych.\n",
    "- Przy pomocy operatorów `in`, `not in` można testować przynależność elementu do krotki.\n",
    "- Funkcja zwracająca kilka obiektów, zwraca je jako krotkę.\n",
    "\n",
    "\n",
    "### Tworzenie krotek. Funkcja `tuple()`, użycie `()`. \n",
    "Aby utworzyć krotkę należy użyć nawiasów `()` lub funkcji `tuple()` z argumentem bedącym obiektem iterowalnym. Jeżeli nie podamy żadnych argumentów tworzona jest pusta krotka. Krotkę możemy utorzyć z kilku obiektów oddzielonych przecinkami (bez użycia nawiasów `()`). Krotki z jednym elementem tworzymy poprzez wartość, po której następuje przecinek (nie wystarcza otoczyć pojedynczą wartość nawiasami okrągłymi).\n",
    "\n",
    "\n",
    "#### Proste przykłady:"
   ]
  },
  {
   "cell_type": "code",
   "execution_count": null,
   "metadata": {},
   "outputs": [],
   "source": [
    "k = (1,2,3,4,5)  # tworzenie krotki\n",
    "print(type(k))\n",
    "print(k)\n",
    "print(2 in k)  # spradzenie czy element jest w krotce\n",
    "print(0 in k)\n",
    "print(k[2])    # wypisanie elementu\n",
    "print(k[1:3])"
   ]
  },
  {
   "cell_type": "code",
   "execution_count": null,
   "metadata": {},
   "outputs": [],
   "source": [
    "k1 = 11, [21, 22], 'tekst' # tworzenie krotki - krotka może zawierać obiekty różnych typów\n",
    "print(type(k1))\n",
    "print(k1)\n",
    "print(k1[1][1])\n",
    "print(k1[2][2])"
   ]
  },
  {
   "cell_type": "code",
   "execution_count": null,
   "metadata": {},
   "outputs": [],
   "source": [
    "k = (1,2,3,4,5)\n",
    "t = k, (22,33,44) #krotki można zagnieżdżać\n",
    "print(t)\n",
    "print(t[1][1])"
   ]
  },
  {
   "cell_type": "code",
   "execution_count": null,
   "metadata": {},
   "outputs": [],
   "source": [
    "k = (1,2,3,4,5)\n",
    "k[2] = 111   #błąd - krotka jest obiektem niemutowalnym"
   ]
  },
  {
   "cell_type": "code",
   "execution_count": null,
   "metadata": {},
   "outputs": [],
   "source": [
    "t = [1,2,3],[3,2,1]\n",
    "print(type(t),t)    # krotki mogą zwracać/zawierać obiekty mutowalne - wtedy można modyfikować takie elementy\n",
    "t[1][1] = 111     \n",
    "print(type(t),t)"
   ]
  },
  {
   "cell_type": "code",
   "execution_count": null,
   "metadata": {},
   "outputs": [],
   "source": [
    "p = ()     #pusta krotka\n",
    "r = tuple()\n",
    "print(p,r)\n",
    "s = 'a',   #krotka jednoelementowa\n",
    "print(s)\n",
    "p = 1,\n",
    "print(p)"
   ]
  },
  {
   "cell_type": "code",
   "execution_count": null,
   "metadata": {},
   "outputs": [],
   "source": [
    "k = (1,2,3,4,5) #rozpakowanie krotki - lista zmiennych po lewej stronie ma tyle samo elementów co krotka\n",
    "a, b, c, d, e = k\n",
    "print(k)\n",
    "print(*k)      #rozpakowanie krotki przy użyciu operatora *\n",
    "print(a,b,c,d,e)"
   ]
  },
  {
   "cell_type": "markdown",
   "metadata": {
    "deletable": false,
    "editable": false,
    "nbgrader": {
     "cell_type": "markdown",
     "checksum": "2513a52be1359d165acfd1c23583b116",
     "grade": false,
     "grade_id": "cell-dd6bd4c980a20db2",
     "locked": true,
     "schema_version": 3,
     "solution": false,
     "task": false
    }
   },
   "source": [
    "### Ćwiczenie 1\n",
    "\n",
    "Napisz funkcję `sincos(x)` liczącą `sin(x)` oraz `cos(x)`, zwracającą obie te wartości naraz (krotka, `tuple`). Wypisz wyniki dla kątów od 0 do 90 stopni jak poniżej:\n",
    "```\n",
    "kąt:   0\t sin:   0.0000000000000000\t cos:   1.0000000000000000\n",
    "kąt:   9\t sin:   0.1564344650402309\t cos:   0.9876883405951378\n",
    "kąt:  18\t sin:   0.3090169943749474\t cos:   0.9510565162951535\n",
    "kąt:  27\t sin:   0.4539904997395467\t cos:   0.8910065241883679\n",
    "kąt:  36\t sin:   0.5877852522924731\t cos:   0.8090169943749475\n",
    "kąt:  45\t sin:   0.7071067811865476\t cos:   0.7071067811865476\n",
    "kąt:  54\t sin:   0.8090169943749475\t cos:   0.5877852522924731\n",
    "kąt:  63\t sin:   0.8910065241883678\t cos:   0.4539904997395468\n",
    "kąt:  72\t sin:   0.9510565162951535\t cos:   0.3090169943749475\n",
    "kąt:  81\t sin:   0.9876883405951378\t cos:   0.1564344650402309\n",
    "kąt:  90\t sin:   1.0000000000000000\t cos:   0.0000000000000001\n",
    "```\n"
   ]
  },
  {
   "cell_type": "code",
   "execution_count": 4,
   "metadata": {
    "deletable": false,
    "nbgrader": {
     "cell_type": "code",
     "checksum": "1b95901d6422590142617b93ed4efd59",
     "grade": false,
     "grade_id": "cell-783a526fc4d5f9a2",
     "locked": false,
     "schema_version": 3,
     "solution": true,
     "task": false
    }
   },
   "outputs": [
    {
     "name": "stdout",
     "output_type": "stream",
     "text": [
      "kat:\t0\tsin:\t0.0\tcos:\t1.0\n",
      "\n",
      "kat:\t1\tsin:\t0.8414709848078965\tcos:\t0.5403023058681398\n",
      "\n",
      "kat:\t2\tsin:\t0.9092974268256817\tcos:\t-0.4161468365471424\n",
      "\n",
      "kat:\t3\tsin:\t0.1411200080598672\tcos:\t-0.9899924966004454\n",
      "\n",
      "kat:\t4\tsin:\t-0.7568024953079283\tcos:\t-0.6536436208636119\n",
      "\n",
      "kat:\t5\tsin:\t-0.9589242746631385\tcos:\t0.28366218546322625\n",
      "\n",
      "kat:\t6\tsin:\t-0.27941549819892586\tcos:\t0.960170286650366\n",
      "\n",
      "kat:\t7\tsin:\t0.6569865987187891\tcos:\t0.7539022543433046\n",
      "\n",
      "kat:\t8\tsin:\t0.9893582466233818\tcos:\t-0.14550003380861354\n",
      "\n",
      "kat:\t9\tsin:\t0.4121184852417566\tcos:\t-0.9111302618846769\n",
      "\n",
      "kat:\t10\tsin:\t-0.5440211108893698\tcos:\t-0.8390715290764524\n",
      "\n",
      "kat:\t11\tsin:\t-0.9999902065507035\tcos:\t0.004425697988050785\n",
      "\n",
      "kat:\t12\tsin:\t-0.5365729180004349\tcos:\t0.8438539587324921\n",
      "\n",
      "kat:\t13\tsin:\t0.4201670368266409\tcos:\t0.9074467814501962\n",
      "\n",
      "kat:\t14\tsin:\t0.9906073556948704\tcos:\t0.1367372182078336\n",
      "\n",
      "kat:\t15\tsin:\t0.6502878401571168\tcos:\t-0.7596879128588213\n",
      "\n",
      "kat:\t16\tsin:\t-0.2879033166650653\tcos:\t-0.9576594803233847\n",
      "\n",
      "kat:\t17\tsin:\t-0.9613974918795568\tcos:\t-0.27516333805159693\n",
      "\n",
      "kat:\t18\tsin:\t-0.7509872467716762\tcos:\t0.6603167082440802\n",
      "\n",
      "kat:\t19\tsin:\t0.14987720966295234\tcos:\t0.9887046181866692\n",
      "\n",
      "kat:\t20\tsin:\t0.9129452507276277\tcos:\t0.408082061813392\n",
      "\n",
      "kat:\t21\tsin:\t0.836655638536056\tcos:\t-0.5477292602242684\n",
      "\n",
      "kat:\t22\tsin:\t-0.008851309290403876\tcos:\t-0.9999608263946371\n",
      "\n",
      "kat:\t23\tsin:\t-0.8462204041751706\tcos:\t-0.5328330203333975\n",
      "\n",
      "kat:\t24\tsin:\t-0.9055783620066239\tcos:\t0.424179007336997\n",
      "\n",
      "kat:\t25\tsin:\t-0.13235175009777303\tcos:\t0.9912028118634736\n",
      "\n",
      "kat:\t26\tsin:\t0.7625584504796027\tcos:\t0.6469193223286404\n",
      "\n",
      "kat:\t27\tsin:\t0.956375928404503\tcos:\t-0.2921388087338362\n",
      "\n",
      "kat:\t28\tsin:\t0.27090578830786904\tcos:\t-0.9626058663135666\n",
      "\n",
      "kat:\t29\tsin:\t-0.6636338842129675\tcos:\t-0.7480575296890004\n",
      "\n",
      "kat:\t30\tsin:\t-0.9880316240928618\tcos:\t0.15425144988758405\n",
      "\n",
      "kat:\t31\tsin:\t-0.404037645323065\tcos:\t0.9147423578045313\n",
      "\n",
      "kat:\t32\tsin:\t0.5514266812416906\tcos:\t0.8342233605065102\n",
      "\n",
      "kat:\t33\tsin:\t0.9999118601072672\tcos:\t-0.013276747223059479\n",
      "\n",
      "kat:\t34\tsin:\t0.5290826861200238\tcos:\t-0.8485702747846052\n",
      "\n",
      "kat:\t35\tsin:\t-0.428182669496151\tcos:\t-0.9036922050915067\n",
      "\n",
      "kat:\t36\tsin:\t-0.9917788534431158\tcos:\t-0.12796368962740468\n",
      "\n",
      "kat:\t37\tsin:\t-0.6435381333569995\tcos:\t0.7654140519453434\n",
      "\n",
      "kat:\t38\tsin:\t0.2963685787093853\tcos:\t0.9550736440472949\n",
      "\n",
      "kat:\t39\tsin:\t0.9637953862840878\tcos:\t0.26664293235993725\n",
      "\n",
      "kat:\t40\tsin:\t0.7451131604793488\tcos:\t-0.6669380616522619\n",
      "\n",
      "kat:\t41\tsin:\t-0.158622668804709\tcos:\t-0.9873392775238264\n",
      "\n",
      "kat:\t42\tsin:\t-0.9165215479156338\tcos:\t-0.39998531498835127\n",
      "\n",
      "kat:\t43\tsin:\t-0.8317747426285983\tcos:\t0.5551133015206257\n",
      "\n",
      "kat:\t44\tsin:\t0.017701925105413577\tcos:\t0.9998433086476912\n",
      "\n",
      "kat:\t45\tsin:\t0.8509035245341184\tcos:\t0.5253219888177297\n",
      "\n",
      "kat:\t46\tsin:\t0.9017883476488092\tcos:\t-0.4321779448847783\n",
      "\n",
      "kat:\t47\tsin:\t0.123573122745224\tcos:\t-0.9923354691509287\n",
      "\n",
      "kat:\t48\tsin:\t-0.7682546613236668\tcos:\t-0.6401443394691997\n",
      "\n",
      "kat:\t49\tsin:\t-0.9537526527594719\tcos:\t0.3005925437436371\n",
      "\n",
      "kat:\t50\tsin:\t-0.26237485370392877\tcos:\t0.9649660284921133\n",
      "\n",
      "kat:\t51\tsin:\t0.6702291758433747\tcos:\t0.7421541968137826\n",
      "\n",
      "kat:\t52\tsin:\t0.9866275920404853\tcos:\t-0.16299078079570548\n",
      "\n",
      "kat:\t53\tsin:\t0.39592515018183416\tcos:\t-0.9182827862121189\n",
      "\n",
      "kat:\t54\tsin:\t-0.5587890488516163\tcos:\t-0.8293098328631502\n",
      "\n",
      "kat:\t55\tsin:\t-0.9997551733586199\tcos:\t0.022126756261955736\n",
      "\n",
      "kat:\t56\tsin:\t-0.5215510020869119\tcos:\t0.8532201077225842\n",
      "\n",
      "kat:\t57\tsin:\t0.43616475524782494\tcos:\t0.8998668269691937\n",
      "\n",
      "kat:\t58\tsin:\t0.9928726480845371\tcos:\t0.11918013544881928\n",
      "\n",
      "kat:\t59\tsin:\t0.6367380071391379\tcos:\t-0.7710802229758452\n",
      "\n",
      "kat:\t60\tsin:\t-0.3048106211022167\tcos:\t-0.9524129804151563\n",
      "\n",
      "kat:\t61\tsin:\t-0.9661177700083929\tcos:\t-0.25810163593826746\n",
      "\n",
      "kat:\t62\tsin:\t-0.7391806966492228\tcos:\t0.6735071623235863\n",
      "\n",
      "kat:\t63\tsin:\t0.16735570030280691\tcos:\t0.9858965815825497\n",
      "\n",
      "kat:\t64\tsin:\t0.9200260381967906\tcos:\t0.39185723042955\n",
      "\n",
      "kat:\t65\tsin:\t0.8268286794901035\tcos:\t-0.562453851238172\n",
      "\n",
      "kat:\t66\tsin:\t-0.026551154023966794\tcos:\t-0.99964745596635\n",
      "\n",
      "kat:\t67\tsin:\t-0.8555199789753223\tcos:\t-0.5177697997895051\n",
      "\n",
      "kat:\t68\tsin:\t-0.8979276806892913\tcos:\t0.4401430224960407\n",
      "\n",
      "kat:\t69\tsin:\t-0.11478481378318722\tcos:\t0.9933903797222716\n",
      "\n",
      "kat:\t70\tsin:\t0.7738906815578891\tcos:\t0.6333192030862999\n",
      "\n",
      "kat:\t71\tsin:\t0.9510546532543747\tcos:\t-0.3090227281660707\n",
      "\n",
      "kat:\t72\tsin:\t0.25382336276203626\tcos:\t-0.9672505882738824\n",
      "\n",
      "kat:\t73\tsin:\t-0.6767719568873076\tcos:\t-0.7361927182273159\n",
      "\n",
      "kat:\t74\tsin:\t-0.9851462604682474\tcos:\t0.17171734183077755\n",
      "\n",
      "kat:\t75\tsin:\t-0.38778163540943045\tcos:\t0.9217512697247493\n",
      "\n",
      "kat:\t76\tsin:\t0.5661076368981803\tcos:\t0.8243313311075577\n",
      "\n",
      "kat:\t77\tsin:\t0.9995201585807313\tcos:\t-0.03097503173121646\n",
      "\n",
      "kat:\t78\tsin:\t0.5139784559875352\tcos:\t-0.8578030932449878\n",
      "\n",
      "kat:\t79\tsin:\t-0.4441126687075084\tcos:\t-0.8959709467909631\n",
      "\n",
      "kat:\t80\tsin:\t-0.9938886539233752\tcos:\t-0.11038724383904756\n",
      "\n",
      "kat:\t81\tsin:\t-0.6298879942744539\tcos:\t0.7766859820216312\n",
      "\n",
      "kat:\t82\tsin:\t0.31322878243308516\tcos:\t0.9496776978825432\n",
      "\n",
      "kat:\t83\tsin:\t0.9683644611001854\tcos:\t0.24954011797333814\n",
      "\n",
      "kat:\t84\tsin:\t0.7331903200732922\tcos:\t-0.6800234955873388\n",
      "\n",
      "kat:\t85\tsin:\t-0.1760756199485871\tcos:\t-0.9843766433940419\n",
      "\n",
      "kat:\t86\tsin:\t-0.9234584470040598\tcos:\t-0.38369844494974187\n",
      "\n",
      "kat:\t87\tsin:\t-0.8218178366308225\tcos:\t0.5697503342653119\n",
      "\n",
      "kat:\t88\tsin:\t0.03539830273366068\tcos:\t0.9993732836951247\n",
      "\n",
      "kat:\t89\tsin:\t0.8600694058124533\tcos:\t0.5101770449416689\n",
      "\n"
     ]
    }
   ],
   "source": [
    "import math\n",
    "\n",
    "def sincos(x: int):\n",
    "    return (math.sin(x), math.cos(x))\n",
    "\n",
    "for i in range(0, 90):\n",
    "\n",
    "    tup = sincos(i)\n",
    "    print(f'kat:\\t{i}\\tsin:\\t{tup[0]}\\tcos:\\t{tup[1]}\\n')"
   ]
  },
  {
   "cell_type": "markdown",
   "metadata": {
    "deletable": false,
    "editable": false,
    "nbgrader": {
     "cell_type": "markdown",
     "checksum": "41070e7f92699a8b28d795de16e0f94e",
     "grade": false,
     "grade_id": "cell-b1761b0051009272",
     "locked": true,
     "schema_version": 3,
     "solution": false,
     "task": false
    }
   },
   "source": [
    "## Zbiory\n",
    "\n",
    "- Zbiór jest nieuporządkowaną kolekcją nie zawierającą duplikatów.\n",
    "- Zbiór to nowy typ zmiennych: `set`. \n",
    "- Przy pomocy operatorów `in`, `not in` można testować przynależność elementu do zbioru\n",
    "- Zbiory umożliwiają wykonywanie takich operacji jak: suma, przecięcie, różnica oraz różnica symetryczna.\n",
    "\n",
    "\n",
    "### Tworzenie zbiorów. Funkcja `set()`, użycie `{}`. \n",
    "Aby utworzyć zbiór należy użyć nawiasów `{}` lub funkcji `set()` z argumentem bedącym obiektem iterowalnym.\n",
    "Aby utworzyć zbiór pusty należy użyć funkcji `set()` bez argumentów, a nie nawiasów `{}`(konstrukcja `{}` tworzy pusty słownik).\n",
    "\n",
    "\n",
    "#### Proste przykłady:"
   ]
  },
  {
   "cell_type": "code",
   "execution_count": 5,
   "metadata": {},
   "outputs": [
    {
     "name": "stdout",
     "output_type": "stream",
     "text": [
      "<class 'set'>\n",
      "{1, 2, 3, 4, 5}\n",
      "True\n",
      "False\n"
     ]
    }
   ],
   "source": [
    "z = {1,2,3,4,5}  # tworzenie zbioru\n",
    "print(type(z))\n",
    "print(z)\n",
    "print(2 in z)  # spradzenie element jest w zbiorze\n",
    "print(0 in z)"
   ]
  },
  {
   "cell_type": "code",
   "execution_count": 6,
   "metadata": {},
   "outputs": [
    {
     "name": "stdout",
     "output_type": "stream",
     "text": [
      "[1, 2, 3, 1, 3, 5, 1]\n",
      "{1, 2, 3, 5}\n"
     ]
    }
   ],
   "source": [
    "p = [1,2,3,1,3,5,1]\n",
    "print(p)\n",
    "zp = set(p)  # tworzenie zbioru z listy\n",
    "print(zp)"
   ]
  },
  {
   "cell_type": "code",
   "execution_count": 7,
   "metadata": {},
   "outputs": [
    {
     "data": {
      "text/plain": [
       "{'a', 'f', 'i', 'k', 'm', 'n', 'o', 'r', 't', 'y'}"
      ]
     },
     "execution_count": 7,
     "metadata": {},
     "output_type": "execute_result"
    }
   ],
   "source": [
    "zt = set('informatyka')  # tworzenie zbioru z tekstu\n",
    "zt"
   ]
  },
  {
   "cell_type": "code",
   "execution_count": null,
   "metadata": {},
   "outputs": [],
   "source": [
    "zp = set()  # tworzenie zbioru pustego\n",
    "print(zp)\n",
    "print(type(zp))"
   ]
  },
  {
   "cell_type": "markdown",
   "metadata": {
    "deletable": false,
    "editable": false,
    "nbgrader": {
     "cell_type": "markdown",
     "checksum": "aae360c86df9bb4b568073a9716d2e54",
     "grade": false,
     "grade_id": "cell-1b7e3d80b9d28ada",
     "locked": true,
     "schema_version": 3,
     "solution": false
    }
   },
   "source": [
    "### Podstawowe operacje na zbiorach:\n",
    "\n",
    "- `|` - Suma zbiorów\n",
    "\n",
    "- `&` - Przecięcie zbiorów\n",
    "\n",
    "- `-` - Różnica zbiorów\n",
    "\n",
    "- `^` - Różnica symetryczna zbiorów"
   ]
  },
  {
   "cell_type": "code",
   "execution_count": 21,
   "metadata": {},
   "outputs": [
    {
     "name": "stdout",
     "output_type": "stream",
     "text": [
      "{'k', 'a', 'o', 'f', 'i', 'y', 'm', 'n', 'r', 't'} {'k', 'a', 'z', 'f', 'i', 'y'}\n",
      "{'k', 'a', 'o', 'z', 'f', 'i', 'y', 'm', 'n', 'r', 't'}\n",
      "{'k', 'a', 'f', 'i', 'y'}\n",
      "{'o', 'm', 'n', 'r', 't'}\n",
      "{'z'}\n",
      "{'o', 'z', 'm', 'n', 'r', 't'}\n"
     ]
    }
   ],
   "source": [
    "a = set('informatyka')\n",
    "b = set('fizyka')\n",
    "print(a, b)\n",
    "print(a | b)\n",
    "print(a & b)\n",
    "print(a - b)\n",
    "print(b - a)\n",
    "print(a ^ b)"
   ]
  },
  {
   "cell_type": "markdown",
   "metadata": {
    "deletable": false,
    "editable": false,
    "nbgrader": {
     "cell_type": "markdown",
     "checksum": "ecc57743deb7061df7a854044d7e773a",
     "grade": false,
     "grade_id": "cell-0c2143825a18c9a3",
     "locked": true,
     "schema_version": 3,
     "solution": false
    }
   },
   "source": [
    "### Kopiowanie zbiorów\n",
    "Kopiowanie zbiorów odbywa sie poprzez referencje (tak jak w listach). Aby skopiować zbiór tworząc nowy obiekt należy użyć metody `copy()` klasy `set`."
   ]
  },
  {
   "cell_type": "code",
   "execution_count": 8,
   "metadata": {},
   "outputs": [
    {
     "name": "stdout",
     "output_type": "stream",
     "text": [
      "{1, 2, 3, 4, 5}\n",
      "4387366816 4387366816\n"
     ]
    }
   ],
   "source": [
    "z = {1,2,3,4,5} \n",
    "p = z\n",
    "print(p)\n",
    "print(id(z),id(p))"
   ]
  },
  {
   "cell_type": "code",
   "execution_count": 9,
   "metadata": {},
   "outputs": [
    {
     "name": "stdout",
     "output_type": "stream",
     "text": [
      "{1, 2, 3, 4, 5}\n",
      "4387365696 4387366592\n"
     ]
    }
   ],
   "source": [
    "z = {1,2,3,4,5} \n",
    "q = z.copy()\n",
    "print(q)\n",
    "print(id(z),id(q))"
   ]
  },
  {
   "cell_type": "markdown",
   "metadata": {
    "deletable": false,
    "editable": false,
    "nbgrader": {
     "cell_type": "markdown",
     "checksum": "340d95ed47a17ad945e9346445d72aa6",
     "grade": false,
     "grade_id": "cell-a77ac242a1ac03c0",
     "locked": true,
     "schema_version": 3,
     "solution": false
    }
   },
   "source": [
    "### Metody wbudowane dla zbiorów.\n",
    "\n",
    "Metody dla zbiorów:\n",
    "https://docs.python.org/3/library/stdtypes.html#set\n",
    "\n",
    "Wybrane metody do użycia:\n",
    "- `add(elem)` - dodaje element `elem` do zbioru.\n",
    "- `remove(elem)` - usuwa element `elem` ze zbioru. Jeżeli elementu nie ma błąd ` KeyError`.\n",
    "- `discard(elem)` - usuwa element `elem` ze zbioru jeżeli w nim jest.\n",
    "- `pop()` - usuwa i zwraca dowolny element ze zbioru.\n",
    "- `clear()` - usuwa wszystkie elementy.\n",
    "- `issubset(z)` - sprawdza czy dany zbiór jest podzbiorem zbioru `z`.\n",
    "- `issuperset(z)` - sprawdza czy dany zbiór zawiera zbiór `z`.\n",
    "\n",
    "__Uwaga!__ Wiekszość metod dla zbiorów modyfikuje zbiór i zwraca `None`."
   ]
  },
  {
   "cell_type": "code",
   "execution_count": null,
   "metadata": {},
   "outputs": [],
   "source": [
    "z = {1,2,3,4,5} \n",
    "z.add(6)  # dodaje element\n",
    "print(z)\n",
    "z.remove(1)  # usuwa element\n",
    "print(z)\n",
    "z.discard(1)  # usuwa element\n",
    "print(z)\n",
    "w = z.pop()  # usuwa i zwraca\n",
    "print(z,w)\n",
    "z.clear()\n",
    "print(z)"
   ]
  },
  {
   "cell_type": "code",
   "execution_count": null,
   "metadata": {},
   "outputs": [],
   "source": [
    "a = set('informatyka')\n",
    "b = set('format')\n",
    "print(a,b)\n",
    "print(b.issubset(a))\n",
    "print(a.issuperset(b))"
   ]
  },
  {
   "cell_type": "markdown",
   "metadata": {
    "deletable": false,
    "editable": false,
    "nbgrader": {
     "cell_type": "markdown",
     "checksum": "8c738a0e83bd26676a6bb73a0caf97c8",
     "grade": false,
     "grade_id": "cell-d72f0b41a79b0a91",
     "locked": true,
     "schema_version": 3,
     "solution": false
    }
   },
   "source": [
    "Do tworzenia zbioru można użyć konstrukcji typu: `set comprehension`."
   ]
  },
  {
   "cell_type": "code",
   "execution_count": 11,
   "metadata": {},
   "outputs": [
    {
     "name": "stdout",
     "output_type": "stream",
     "text": [
      "{'y', 'i', 'n', 'k'}\n"
     ]
    }
   ],
   "source": [
    "z = {i for i in 'informatyka' if i not in 'format'}\n",
    "print(z)"
   ]
  },
  {
   "cell_type": "markdown",
   "metadata": {
    "deletable": false,
    "editable": false,
    "nbgrader": {
     "cell_type": "markdown",
     "checksum": "9a8a3aa73d797e625f7ae08953b28284",
     "grade": false,
     "grade_id": "cell-7a98ba2a975b8d69",
     "locked": true,
     "schema_version": 3,
     "solution": false
    }
   },
   "source": [
    "### Ćwiczenie 2\n",
    "Używając zbiorów sprawdź, czy wszystkie litery słowa `slowo` znajdują się w tekście `tekst`."
   ]
  },
  {
   "cell_type": "code",
   "execution_count": 23,
   "metadata": {
    "deletable": false,
    "nbgrader": {
     "cell_type": "code",
     "checksum": "438f7a7defab062e130532b996c20c89",
     "grade": false,
     "grade_id": "cell-9b7d748058dddf78",
     "locked": false,
     "schema_version": 3,
     "solution": true
    }
   },
   "outputs": [
    {
     "name": "stdout",
     "output_type": "stream",
     "text": [
      "True\n"
     ]
    }
   ],
   "source": [
    "slowo = 'ponaddwustudziewięćdziesięciodziewięciokilometrowy'\n",
    "\n",
    "tekst = \"\"\"Najdłuższym polskim słowem mającym dokładnie jedną samogłoskę (czyli jednosylabowym) jest “chrząszcz” (9 liter), choć ma tylko 5 głosek.\n",
    "W innych słowiańskich językach można stworzyć słowa w ogóle bez samogłosek np. sk:vlk czy hr:krk. To drugie znamy też z nazwy słoweńskiej firmy farmaceutycznej: Krka.\n",
    "Najbardziej bezwzględnym słowem dla samogłosek jest właśnie słowo “beZWZGLędny”, bo ma aż pięć spółgłosek obok siebie.\"\"\"\n",
    "\n",
    "s = set(tekst)\n",
    "slowo = set(slowo)\n",
    "jest = len(slowo - s) == 0\n",
    "print(jest)"
   ]
  },
  {
   "cell_type": "markdown",
   "metadata": {
    "deletable": false,
    "editable": false,
    "nbgrader": {
     "cell_type": "markdown",
     "checksum": "717c6ac91437fcdb16a052351737eea8",
     "grade": false,
     "grade_id": "cell-fd0d4492c3c1bfdb",
     "locked": true,
     "schema_version": 3,
     "solution": false
    }
   },
   "source": [
    "## Słowniki\n",
    "\n",
    "- Słownik to nowy typ zmiennych: `dict`. Jest obiektem mapującym tzn. służy mapowaniu nazw na obiekty (tablica asocjacyjna).\n",
    "- Słownik można traktować jako nieuporządkowany zbiór par `klucz:wartość`, z założeniem, że klucze są unikalne (w jednym słowniku).\n",
    "- Słowniki indeksowane są kluczami co oznacza, że do elementów słownika odwołujemy się poprzez klucze. Klucze mogą być obiektami dowolnego, niemutowalnego typu (napisy, liczby, tuple). \n",
    "- Para nawiasów klamrowych tworzy pusty słownik: `{}`.\n",
    "- Umieszczenie listy par `klucz:wartość`, oddzielonych przecinkami w nawiasach `{}` dodaje początkowe pary `klucz:wartość` do słownika.\n",
    "\n",
    "#### Proste przykłady:"
   ]
  },
  {
   "cell_type": "code",
   "execution_count": null,
   "metadata": {},
   "outputs": [],
   "source": [
    "d = {'imie': 'Karol', 'nazwisko': 'Górski'}  # tworzenie słownika\n",
    "print(d)\n",
    "type(d)"
   ]
  },
  {
   "cell_type": "code",
   "execution_count": null,
   "metadata": {},
   "outputs": [],
   "source": [
    "d['imie']  # odwołanie do elementu słownika poprzez klucz"
   ]
  },
  {
   "cell_type": "code",
   "execution_count": null,
   "metadata": {},
   "outputs": [],
   "source": [
    "b = {}  # tworzenie pustego słownika\n",
    "type(d)"
   ]
  },
  {
   "cell_type": "markdown",
   "metadata": {
    "deletable": false,
    "editable": false,
    "nbgrader": {
     "cell_type": "markdown",
     "checksum": "2f037e5f6bbf4279b3c76e9e456975b9",
     "grade": false,
     "grade_id": "cell-f4d0ccd23d94ef9e",
     "locked": true,
     "schema_version": 3,
     "solution": false
    }
   },
   "source": [
    "Klucze słownika mogą mieć postać list wartości oddzielonych przecinkami (krotki)."
   ]
  },
  {
   "cell_type": "code",
   "execution_count": null,
   "metadata": {},
   "outputs": [],
   "source": [
    "b = {} \n",
    "b[0,1,2] = 'jeden'\n",
    "b[1,2,3] = 'dwa'\n",
    "b"
   ]
  },
  {
   "cell_type": "markdown",
   "metadata": {
    "deletable": false,
    "editable": false,
    "nbgrader": {
     "cell_type": "markdown",
     "checksum": "cf244fad43c6a3063eacf23a71c52e04",
     "grade": false,
     "grade_id": "cell-f3460ad886ced470",
     "locked": true,
     "schema_version": 3,
     "solution": false
    }
   },
   "source": [
    "### Podstawowe operacje na słownikach.\n",
    "\n",
    "Głównymi operacjami na słownikach są:\n",
    "\n",
    "- Dodawanie wartości z jakimś kluczem.\n",
    "- Pobieranie wartości opatrzonej podanym kluczem.\n",
    "- Usuwanie pary `klucz:wartość` za pomoca instrukcji `del`.\n",
    "- `len()` Zwraca liczbę elementów w słowniku."
   ]
  },
  {
   "cell_type": "code",
   "execution_count": null,
   "metadata": {},
   "outputs": [],
   "source": [
    "d = {'imie': 'Karol', 'nazwisko': 'Górski'}\n",
    "d['wiek'] = 22  # dodanie nowego pola - wartość z kluczem\n",
    "print(d)"
   ]
  },
  {
   "cell_type": "code",
   "execution_count": null,
   "metadata": {},
   "outputs": [],
   "source": [
    "print(d['imie'])  # odwołanie do elementu przez klucz"
   ]
  },
  {
   "cell_type": "code",
   "execution_count": null,
   "metadata": {},
   "outputs": [],
   "source": [
    "d['imie'] = 'Paweł'  #zmiana wartości dla istniejącego klucza - poprzednia wartość zapominana\n",
    "print(d['imie'])"
   ]
  },
  {
   "cell_type": "code",
   "execution_count": null,
   "metadata": {},
   "outputs": [],
   "source": [
    "del d['wiek']  # usunięcie klucza wiek (z wartością)\n",
    "d"
   ]
  },
  {
   "cell_type": "code",
   "execution_count": null,
   "metadata": {},
   "outputs": [],
   "source": [
    "print(len(d))  # liczba elementów (par klucz:wartość)"
   ]
  },
  {
   "cell_type": "markdown",
   "metadata": {
    "deletable": false,
    "editable": false,
    "nbgrader": {
     "cell_type": "markdown",
     "checksum": "38538682df385546dd2793f6177176e0",
     "grade": false,
     "grade_id": "cell-2f3a009ecf820c1e",
     "locked": true,
     "schema_version": 3,
     "solution": false
    }
   },
   "source": [
    "Próba pozyskania wartości spod klucza, który nie istnieje w słowniku - błąd klucza!"
   ]
  },
  {
   "cell_type": "code",
   "execution_count": null,
   "metadata": {},
   "outputs": [],
   "source": [
    "d['wiek']"
   ]
  },
  {
   "cell_type": "markdown",
   "metadata": {
    "deletable": false,
    "editable": false,
    "nbgrader": {
     "cell_type": "markdown",
     "checksum": "17322435d54b7840107e7bf21bfbd13d",
     "grade": false,
     "grade_id": "cell-280c218d883f4742",
     "locked": true,
     "schema_version": 3,
     "solution": false
    }
   },
   "source": [
    "### Kopiowanie słowników.\n",
    "Kopiowanie słowników odbywa się poprzez referencje. Aby skopiować słownik tworząc nowy obiekt należy użyć\n",
    "metody `copy()` klasy `dict`."
   ]
  },
  {
   "cell_type": "code",
   "execution_count": null,
   "metadata": {},
   "outputs": [],
   "source": [
    "d = {'imie': 'Karol', 'nazwisko': 'Górski'}\n",
    "s = d  # referencja\n",
    "print(s)\n",
    "print(id(d), id(s))"
   ]
  },
  {
   "cell_type": "code",
   "execution_count": null,
   "metadata": {},
   "outputs": [],
   "source": [
    "d = {'imie': 'Karol', 'nazwisko': 'Górski'}\n",
    "r = d.copy()  # kopia\n",
    "print(r)\n",
    "print(id(d), id(r))"
   ]
  },
  {
   "cell_type": "markdown",
   "metadata": {
    "deletable": false,
    "editable": false,
    "nbgrader": {
     "cell_type": "markdown",
     "checksum": "252769c1e3f1395f67d2e9614fc0aa11",
     "grade": false,
     "grade_id": "cell-57d8519c83de35df",
     "locked": true,
     "schema_version": 3,
     "solution": false
    }
   },
   "source": [
    "### Metody wbudowane dla słowników.\n",
    "\n",
    "Metody dla słowników:\n",
    "https://docs.python.org/3/library/stdtypes.html#dict\n",
    "\n",
    "Wybrane metody do użycia:\n",
    "- `keys()` - zwraca listę kluczy w słowniku.\n",
    "- `values()` - zwraca listę wartości w słowniku.\n",
    "- `items()` - zwraca listę par `(klucz,wartość)`.\n",
    "- `update(s)` - dodaje do słownika wszystkie elementy ze słownika s.\n",
    "- `pop(klucz)` - usuwa wskazany `klucz` ze słownika i zwraca przypisaną mu wartość.\n",
    "- `popitem()` - usuwa parę `(klucz,wartość)` i zwraca ją w postaci tupli (iteracyjne usuwanie zawartości słownika). Pary są zwracane w kolejności LIFO.\n",
    "- `clear()` - usuwa wszystkie elementy słownika."
   ]
  },
  {
   "cell_type": "code",
   "execution_count": 24,
   "metadata": {},
   "outputs": [
    {
     "name": "stdout",
     "output_type": "stream",
     "text": [
      "1)  dict_keys(['imie', 'nazwisko', 'wiek'])\n",
      "2)  dict_values(['Karol', 'Górski', 22])\n",
      "3)  dict_items([('imie', 'Karol'), ('nazwisko', 'Górski'), ('wiek', 22)])\n"
     ]
    }
   ],
   "source": [
    "d = {'imie': 'Karol', 'nazwisko': 'Górski', 'wiek': 22}\n",
    "print('1) ',d.keys())\n",
    "print('2) ',d.values())\n",
    "print('3) ',d.items())"
   ]
  },
  {
   "cell_type": "code",
   "execution_count": null,
   "metadata": {},
   "outputs": [],
   "source": [
    "d = {'imie': 'Karol', 'nazwisko': 'Górski', 'wiek': 22}\n",
    "s = {'miejscowość': 'Kraków', 'kod pocztowy': '31-876'}\n",
    "d.update(s)\n",
    "print(d)\n",
    "print(d.pop('kod pocztowy'))\n",
    "print(d)\n",
    "print(d.popitem())\n",
    "print(d)\n",
    "d.clear()\n",
    "d"
   ]
  },
  {
   "cell_type": "markdown",
   "metadata": {
    "deletable": false,
    "editable": false,
    "nbgrader": {
     "cell_type": "markdown",
     "checksum": "eee6bda1c54d94366226cf33c0e1d5e0",
     "grade": false,
     "grade_id": "cell-b63b6ae0e8bf310e",
     "locked": true,
     "schema_version": 3,
     "solution": false
    }
   },
   "source": [
    "#### Przeglądanie słowników."
   ]
  },
  {
   "cell_type": "code",
   "execution_count": null,
   "metadata": {},
   "outputs": [],
   "source": [
    "d = {'imie': 'Karol', 'nazwisko': 'Górski', 'wiek': 22}\n",
    "for key in d.keys():\n",
    "    print(key, end = ', ')"
   ]
  },
  {
   "cell_type": "code",
   "execution_count": null,
   "metadata": {},
   "outputs": [],
   "source": [
    "\n",
    "for el in d:\n",
    "    print(el, end = ', ')"
   ]
  },
  {
   "cell_type": "code",
   "execution_count": null,
   "metadata": {},
   "outputs": [],
   "source": [
    "for values in d.values():\n",
    "    print(values, end = ', ')"
   ]
  },
  {
   "cell_type": "code",
   "execution_count": null,
   "metadata": {},
   "outputs": [],
   "source": [
    "for item in d.items():\n",
    "    print(item, end = ', ')"
   ]
  },
  {
   "cell_type": "code",
   "execution_count": null,
   "metadata": {},
   "outputs": [],
   "source": [
    "for key, values in d.items():\n",
    "    print(key, values)"
   ]
  },
  {
   "cell_type": "markdown",
   "metadata": {
    "deletable": false,
    "editable": false,
    "nbgrader": {
     "cell_type": "markdown",
     "checksum": "b5cf309870a0c0c3df5abea35a0371a9",
     "grade": false,
     "grade_id": "cell-6d70495c386426e5",
     "locked": true,
     "schema_version": 3,
     "solution": false
    }
   },
   "source": [
    "### Operatory `in`, `not in`.\n",
    "\n",
    "Sprawdzenie czy klucz znajduje się w słowniku."
   ]
  },
  {
   "cell_type": "code",
   "execution_count": null,
   "metadata": {},
   "outputs": [],
   "source": [
    "d = {'imie': 'Karol', 'nazwisko': 'Górski'}\n",
    "'imie' in d"
   ]
  },
  {
   "cell_type": "markdown",
   "metadata": {
    "deletable": false,
    "editable": false,
    "nbgrader": {
     "cell_type": "markdown",
     "checksum": "cc6bac661e3cf4d8271b0fb8f066f0ee",
     "grade": false,
     "grade_id": "cell-25e054e5172f6847",
     "locked": true,
     "schema_version": 3,
     "solution": false
    }
   },
   "source": [
    "Sprawdzenie czy wartość znajduje się w słowniku."
   ]
  },
  {
   "cell_type": "code",
   "execution_count": null,
   "metadata": {},
   "outputs": [],
   "source": [
    "print(d.values())\n",
    "'Michał' in d.values()"
   ]
  },
  {
   "cell_type": "markdown",
   "metadata": {
    "deletable": false,
    "editable": false,
    "nbgrader": {
     "cell_type": "markdown",
     "checksum": "55aa3988bcfe417392946a6b2287b42c",
     "grade": false,
     "grade_id": "cell-26b37861986bd9e7",
     "locked": true,
     "schema_version": 3,
     "solution": false,
     "task": false
    }
   },
   "source": [
    "Do tworzenia słownika można użyć konstrukcji typu: `dict comprehension`."
   ]
  },
  {
   "cell_type": "code",
   "execution_count": null,
   "metadata": {},
   "outputs": [],
   "source": [
    "s = {i : i**3 for i in (1, 2, 3)}\n",
    "print(s)\n",
    "s.get(4,'brak')"
   ]
  },
  {
   "cell_type": "markdown",
   "metadata": {
    "deletable": false,
    "editable": false,
    "nbgrader": {
     "cell_type": "markdown",
     "checksum": "cef5b273a126a44fe7500daeb356c68a",
     "grade": false,
     "grade_id": "cell-43d7d9d00155c5a9",
     "locked": true,
     "schema_version": 3,
     "solution": false
    }
   },
   "source": [
    "### Ćwiczenie 3\n",
    "Wykorzystując słownik jako licznik napisz program, który zliczy ile razy dana litera występuje w podanym słowie/tekście."
   ]
  },
  {
   "cell_type": "code",
   "execution_count": 29,
   "metadata": {
    "deletable": false,
    "nbgrader": {
     "cell_type": "code",
     "checksum": "b279c072eca9e15f0fccdb74e026ba77",
     "grade": false,
     "grade_id": "cell-0f9165c0147c65b0",
     "locked": false,
     "schema_version": 3,
     "solution": true
    }
   },
   "outputs": [
    {
     "name": "stdout",
     "output_type": "stream",
     "text": [
      "{'R': 1, 'i': 4, 'n': 5, 'd': 1, 'f': 2, 'l': 1, 'e': 9, 's': 5, 'c': 2, 'h': 2, 't': 5, 'k': 1, 'r': 4, 'u': 4, 'g': 6, 'ü': 2, 'b': 3, 'w': 1, 'a': 4, 'z': 1}\n"
     ]
    }
   ],
   "source": [
    "slowo = 'Rindfleischetikettierungsüberwachungsaufgabenübertragungsgesetz' \n",
    "d = {}\n",
    "\n",
    "for c in slowo:\n",
    "    if c not in d:\n",
    "        d[c] = 1\n",
    "    else:\n",
    "        d[c] += 1\n",
    "\n",
    "print(d)\n"
   ]
  },
  {
   "cell_type": "markdown",
   "metadata": {
    "deletable": false,
    "editable": false,
    "nbgrader": {
     "cell_type": "markdown",
     "checksum": "350e2c0bad87b9fe244e6671a82252d3",
     "grade": false,
     "grade_id": "cell-781b6d931ec105a3",
     "locked": true,
     "schema_version": 3,
     "solution": false
    }
   },
   "source": [
    "### Ćwiczenie 4\n",
    "Wykorzystując słownik napisz translator tekstu na alfabet Mors'a.\n",
    "\n",
    "Szczegółowe informacje znajdziesz pod linkiem : http://alfabetmorsa.pl/\n",
    "\n",
    "Przetłumacz poniższy tekst. Załóżmy, że znakiem rozdzielającym słowa w alfabecie Morse'a jest znak `/`.\n",
    "\n",
    "Uwaga: dwa znaki powinny być rozdzielone spacją."
   ]
  },
  {
   "cell_type": "code",
   "execution_count": 35,
   "metadata": {
    "deletable": false,
    "nbgrader": {
     "cell_type": "code",
     "checksum": "31eaf7352adb452971f01fd73f0963aa",
     "grade": false,
     "grade_id": "cell-1469c5583f2ad090",
     "locked": false,
     "schema_version": 3,
     "solution": true
    }
   },
   "outputs": [
    {
     "name": "stdout",
     "output_type": "stream",
     "text": [
      "-- •- - • -- •- - -•-- -•- •- / •• / •• -• ••-• --- •-• -- •- - -•-- -•- •- / •--- • ••• - / ••• ••- •--• • •-• \n"
     ]
    }
   ],
   "source": [
    "litery = ['A','B','C','D','E','F','G','H','I','J','K','L','M','N','O','P','Q','R','S','T','U',\n",
    "          'V','W','X','Y','Z',' ']\n",
    "mors = ['•-','-•••','-•-•','-••','•','••-•','--•','••••','••','•---','-•-','•-••','--','-•',\n",
    "        '---','•--•','--•-','•-•','•••','-','••-','•••-','•--','-••-','-•--','--••','/']\n",
    "\n",
    "d = {}\n",
    "for i in range(0, len(litery)):\n",
    "    smallLet = litery[i].lower()\n",
    "    d[smallLet] = mors[i]\n",
    "\n",
    "def codeMors(s: str):\n",
    "    result = \"\"\n",
    "    for letter in s:\n",
    "        smallLet = letter.lower()\n",
    "        result += d[smallLet] + \" \"\n",
    "\n",
    "    return result\n",
    "\n",
    "tekst = 'Matematyka i informatyka jest super'\n",
    "print(codeMors(tekst))\n",
    "\n"
   ]
  },
  {
   "cell_type": "markdown",
   "metadata": {
    "deletable": false,
    "editable": false,
    "nbgrader": {
     "cell_type": "markdown",
     "checksum": "efd8b6bde9c079bdbedd4b478179723b",
     "grade": false,
     "grade_id": "cell-8d4257a410dea81d",
     "locked": true,
     "schema_version": 3,
     "solution": false
    }
   },
   "source": [
    "## Zadanie 1\n",
    "\n",
    "Uzupełnij program z __Ćwiczenia 4__ w taki sposób, aby w tekście tłumaczone były również cyfry, polskie znaki diakrytyczne, znaki interpunkcyjne i symbole. Zaimplementuj obsługę błędu w przypadku nierozpoznania znaku."
   ]
  },
  {
   "cell_type": "code",
   "execution_count": 37,
   "metadata": {
    "deletable": false,
    "nbgrader": {
     "cell_type": "code",
     "checksum": "3e9c4acbe96b9c11c25eb36988086157",
     "grade": true,
     "grade_id": "cell-e3420a362604903a",
     "locked": false,
     "points": 1,
     "schema_version": 3,
     "solution": true
    }
   },
   "outputs": [
    {
     "name": "stdout",
     "output_type": "stream",
     "text": [
      ".- -... -.-. / .---- ..--- ...-- \n"
     ]
    }
   ],
   "source": [
    "morse_code = {\n",
    "    'A': '.-', 'B': '-...', 'C': '-.-.', 'D': '-..', 'E': '.', 'F': '..-.', 'G': '--.', 'H': '....',\n",
    "    'I': '..', 'J': '.---', 'K': '-.-', 'L': '.-..', 'M': '--', 'N': '-.', 'O': '---', 'P': '.--.',\n",
    "    'Q': '--.-', 'R': '.-.', 'S': '...', 'T': '-', 'U': '..-', 'V': '...-', 'W': '.--', 'X': '-..-',\n",
    "    'Y': '-.--', 'Z': '--..',\n",
    "    '1': '.----', '2': '..---', '3': '...--', '4': '....-', '5': '.....', '6': '-....', '7': '--...',\n",
    "    '8': '---..', '9': '----.', '0': '-----',\n",
    "    ' ': '/'\n",
    "}\n",
    "\n",
    "def text_to_morse(text):\n",
    "    morse = ''\n",
    "    for char in text.upper():\n",
    "        if char in morse_code:\n",
    "            morse += morse_code[char] + ' '\n",
    "        else:\n",
    "            raise(\"nie znaleziono znaku\")\n",
    "    return morse\n",
    "\n",
    "print(text_to_morse(\"abc 123\"))\n"
   ]
  },
  {
   "cell_type": "markdown",
   "metadata": {
    "deletable": false,
    "editable": false,
    "nbgrader": {
     "cell_type": "markdown",
     "checksum": "0da9386cd4eda11158f8822cd3af1e2d",
     "grade": false,
     "grade_id": "cell-fea69fb6589610c6",
     "locked": true,
     "schema_version": 3,
     "solution": false
    }
   },
   "source": [
    "## Zadanie 2\n",
    "\n",
    "Wykorzystując słownik napisz translator alfabetu Morse'a na tekst. Przetłumacz poniższy tekst. Załóż, że znakiem rozdzielającym słowa w alfabecie Morse'a jest znak `/`. Zaimplementuj obsługę błędu w przypadku nierozpoznania znaku."
   ]
  },
  {
   "cell_type": "code",
   "execution_count": 48,
   "metadata": {
    "deletable": false,
    "nbgrader": {
     "cell_type": "code",
     "checksum": "1e80b0366b67146e0307ce4ce996f272",
     "grade": true,
     "grade_id": "cell-9b479090231475a8",
     "locked": false,
     "points": 1,
     "schema_version": 3,
     "solution": true
    }
   },
   "outputs": [
    {
     "name": "stdout",
     "output_type": "stream",
     "text": [
      "MATEMATYKA I INFORMATYKA S? SUPER?\n"
     ]
    }
   ],
   "source": [
    "morse_dict = {\n",
    "    '•-': 'A', '-•••': 'B', '-•-•': 'C', '-••': 'D', '•': 'E',\n",
    "    '••-•': 'F', '--•': 'G', '••••': 'H', '••': 'I', '•---': 'J',\n",
    "    '-•-': 'K', '•-••': 'L', '--': 'M', '-•': 'N', '---': 'O',\n",
    "    '•--•': 'P', '--•-': 'Q', '•-•': 'R', '•••': 'S', '-': 'T',\n",
    "    '••-': 'U', '•••-': 'V', '•--': 'W', '-••-': 'X', '-•--': 'Y',\n",
    "    '--••': 'Z', '•----': '1', '••---': '2', '•••--': '3',\n",
    "    '••••-': '4', '•••••': '5', '-••••': '6', '--•••': '7',\n",
    "    '---••': '8', '----•': '9', '-----': '0'\n",
    "}\n",
    "\n",
    "def morse_to_text(morse_code):\n",
    "    words = morse_code.split(' / ')\n",
    "    translated_text = ''\n",
    "    for word in words:\n",
    "        letters = word.split(' ')\n",
    "        for letter in letters:\n",
    "            if letter in morse_dict:\n",
    "                translated_text += morse_dict[letter]\n",
    "            else:\n",
    "                translated_text += '?'  \n",
    "        translated_text += ' '\n",
    "    return translated_text.strip()\n",
    "\n",
    "morse_code = '-- •- - • -- •- - -•-- -•- •- / •• / •• -• ••-• --- •-• -- •- - -•-- -•- •- / ••• •-•- / ••• ••- •--• • •-• -•-•--'\n",
    "print(morse_to_text(morse_code))\n"
   ]
  },
  {
   "cell_type": "markdown",
   "metadata": {
    "deletable": false,
    "editable": false,
    "nbgrader": {
     "cell_type": "markdown",
     "checksum": "33616a1d8a5bc34203ac2f1aa132cd83",
     "grade": false,
     "grade_id": "cell-43e02728c4710d75",
     "locked": true,
     "schema_version": 3,
     "solution": false
    }
   },
   "source": [
    "## Zadanie 3\n",
    "\n",
    "Napisz funkcję przyjmującą dwa argumenty, zwracającą parę/krotkę: drugi argument oraz sumę obu argumentów. Wykorzystaj tę funkcję do napisania funkcji zwracającej zadany wyraz ciągu Fibonacciego. \n",
    "\n",
    "https://pl.wikipedia.org/wiki/Ci%C4%85g_Fibonacciego"
   ]
  },
  {
   "cell_type": "code",
   "execution_count": 49,
   "metadata": {
    "deletable": false,
    "nbgrader": {
     "cell_type": "code",
     "checksum": "49ce80ab9ef0ba5018b66f1ae7337393",
     "grade": true,
     "grade_id": "cell-977c88527395b830",
     "locked": false,
     "points": 1,
     "schema_version": 3,
     "solution": true
    }
   },
   "outputs": [
    {
     "name": "stdout",
     "output_type": "stream",
     "text": [
      "Wartość 13-tego wyrazu ciągu Fibonacciego: 233\n"
     ]
    }
   ],
   "source": [
    "def sum_and_second(x, y):\n",
    "    return y, x + y\n",
    "\n",
    "def fibonacci(n):\n",
    "    if n == 0:\n",
    "        return 0\n",
    "    if n == 1:\n",
    "        return 1\n",
    "    \n",
    "    first = 0\n",
    "    second = 1\n",
    "    for _ in range(2, n + 1):\n",
    "        first, second = sum_and_second(first, second)\n",
    "    return second\n",
    "\n",
    "\n",
    "n = 13\n",
    "print(f\"Wartość {n}-tego wyrazu ciągu Fibonacciego: {fibonacci(n)}\")"
   ]
  },
  {
   "cell_type": "markdown",
   "metadata": {
    "deletable": false,
    "editable": false,
    "nbgrader": {
     "cell_type": "markdown",
     "checksum": "27b698c4c583df45ced4a16695f4f3fe",
     "grade": false,
     "grade_id": "cell-0804a9e90b63cb34",
     "locked": true,
     "schema_version": 3,
     "solution": false,
     "task": false
    }
   },
   "source": [
    "## Zadanie 4\n",
    "\n",
    "Napisz funkcję 'rozmywającą' listę. Funkcja powinna jako argument przyjmować listę i wagi, utworzyć kopię przesłaniej listy, której każdy element (poza pierwszym i ostatnim) jest zamieniamy na średnią ważoną siebie oraz swoich bezpośrednich sąsiadów, z przesłanymi wagami (z oryginalnej listy wejściowej). Funkcja powinna zwrócić nową listę – przesłana jako argument nie powinna być modyfikowana.\n",
    "Utwórz listę 20 losowych liczb i zaprezentuj działanie powyższej funkcji.\n",
    "Przykładowe wywołania i wyniki:\n",
    "``` python\n",
    "print( fun4( [3, 1, 2, 0, 4], (1,1,1)) )\n",
    "```\n",
    "\n",
    "`[3, 2.0, 1.0, 2.0, 4]`\n",
    "\n",
    "```python\n",
    "print( fun4( [3, 1, 2, 0, 4], (2,-1,2)) )\n",
    "```\n",
    "\n",
    "`[3, 3.0, 0.0, 4.0, 4]`"
   ]
  },
  {
   "cell_type": "code",
   "execution_count": 50,
   "metadata": {
    "deletable": false,
    "nbgrader": {
     "cell_type": "code",
     "checksum": "4856f85f2bcf3fa3165b85db4648ec18",
     "grade": true,
     "grade_id": "cell-86ce006af56f966e",
     "locked": false,
     "points": 1,
     "schema_version": 3,
     "solution": true,
     "task": false
    }
   },
   "outputs": [
    {
     "name": "stdout",
     "output_type": "stream",
     "text": [
      "Oryginalna lista: [84, 14, 12, 31, 9, 38, 47, 64, 16, 16, 66, 29, 96, 63, 44, 25, 20, 28, 50, 76]\n",
      "Rozmyta lista: [84, 31.0, 17.25, 20.75, 21.75, 33.0, 49.0, 47.75, 28.0, 28.5, 44.25, 55.0, 71.0, 66.5, 44.0, 28.5, 23.25, 31.5, 51.0, 76]\n"
     ]
    }
   ],
   "source": [
    "import random\n",
    "def blur_list(input_list, weights):\n",
    "    blurred_list = input_list.copy()  \n",
    "    if len(input_list) <= 2:\n",
    "        return blurred_list\n",
    "\n",
    "    for i in range(1, len(input_list) - 1):\n",
    "        blurred_list[i] = (input_list[i-1] * weights[0] + input_list[i] * weights[1] + input_list[i+1] * weights[2]) / sum(weights)\n",
    "\n",
    "    return blurred_list\n",
    "\n",
    "\n",
    "random_list = [random.randint(1, 100) for _ in range(20)]\n",
    "print(\"Oryginalna lista:\", random_list)\n",
    "\n",
    "weights = [0.25, 0.5, 0.25]\n",
    "\n",
    "blurred = blur_list(random_list, weights)\n",
    "print(\"Rozmyta lista:\", blurred)"
   ]
  },
  {
   "cell_type": "markdown",
   "metadata": {
    "deletable": false,
    "editable": false,
    "nbgrader": {
     "cell_type": "markdown",
     "checksum": "3ba662b36ff9dd1314e5bec3d45782d5",
     "grade": false,
     "grade_id": "cell-05b44e82560dccc4",
     "locked": true,
     "schema_version": 3,
     "solution": false,
     "task": false
    }
   },
   "source": [
    "## Zadanie 5\n",
    "\n",
    "Utwórz słownik `imię=>ocena`, zawierający oceny czterech przykładowych osób. Napisz funkcję przyjmującą jako argument słownik, wypisującą listę osób w kolejności alfabetycznej. Napisz funkcję przyjmującą jako argument słownik, wypisującą listę osób wraz z ocenami w dowolnej kolejności."
   ]
  },
  {
   "cell_type": "code",
   "execution_count": 51,
   "metadata": {
    "deletable": false,
    "nbgrader": {
     "cell_type": "code",
     "checksum": "b96ba71641f06767cd86225b1704ab01",
     "grade": true,
     "grade_id": "cell-802ecb70d80dc053",
     "locked": false,
     "points": 1,
     "schema_version": 3,
     "solution": true,
     "task": false
    }
   },
   "outputs": [
    {
     "name": "stdout",
     "output_type": "stream",
     "text": [
      "Lista osób w kolejności alfabetycznej:\n",
      "Anna\n",
      "Marcin\n",
      "Piotr\n",
      "Zofia\n",
      "\n",
      "Lista osób wraz z ocenami w dowolnej kolejności:\n",
      "Anna: 4.5\n",
      "Marcin: 3.0\n",
      "Zofia: 5.0\n",
      "Piotr: 4.0\n"
     ]
    }
   ],
   "source": [
    "def sort_by_name(grades_dict):\n",
    "    sorted_names = sorted(grades_dict.keys())\n",
    "    for name in sorted_names:\n",
    "        print(name)\n",
    "\n",
    "def print_grades(grades_dict):\n",
    "    for name, grade in grades_dict.items():\n",
    "        print(f\"{name}: {grade}\")\n",
    "\n",
    "grades = {\n",
    "    'Anna': 4.5,\n",
    "    'Marcin': 3.0,\n",
    "    'Zofia': 5.0,\n",
    "    'Piotr': 4.0\n",
    "}\n",
    "\n",
    "print(\"Lista osób w kolejności alfabetycznej:\")\n",
    "sort_by_name(grades)\n",
    "\n",
    "print(\"\\nLista osób wraz z ocenami w dowolnej kolejności:\")\n",
    "print_grades(grades)\n"
   ]
  },
  {
   "cell_type": "markdown",
   "metadata": {
    "deletable": false,
    "editable": false,
    "nbgrader": {
     "cell_type": "markdown",
     "checksum": "3d4d987291d24574c9076b998bcd6caf",
     "grade": false,
     "grade_id": "cell-649a9c0157cab4c5",
     "locked": true,
     "schema_version": 3,
     "solution": false,
     "task": false
    }
   },
   "source": [
    "## Zadanie 6\n",
    "\n",
    "Utwórz słownik słowników, `imię=>(kategoria=>ocena)`, przechowujący listę osób, oraz ocen z różnych kategorii (`kolokwium 1`, `odpowiedź ustna 2` itp). Napisz funkcję przyjmującą jako argument powyższy słownik, liczącą średnią arytmetyczną wszystkich ocen danej osoby, wypisującą listę osób których średnia ocen jest niższa od 3.0. Napisz funkcję wypisującą średnią ocen wszystkich osób z podanej kategorii (np. średnią ocen wszystkich osób za `python 1` itd.).\n"
   ]
  },
  {
   "cell_type": "code",
   "execution_count": 52,
   "metadata": {
    "deletable": false,
    "nbgrader": {
     "cell_type": "code",
     "checksum": "b099f15b6fddf42f0d18e40c1b2df792",
     "grade": true,
     "grade_id": "cell-79b1a8dc39c37fbd",
     "locked": false,
     "points": 1,
     "schema_version": 3,
     "solution": true,
     "task": false
    }
   },
   "outputs": [
    {
     "name": "stdout",
     "output_type": "stream",
     "text": [
      "Średnia ocen dla Adam: 4.83\n",
      "\n",
      "Osoby których średnia ocen jest niższa od 3.0:\n",
      "Paweł\n",
      "Maria\n"
     ]
    }
   ],
   "source": [
    "def average_grade(grades_dict, person):\n",
    "    grades = grades_dict.get(person)\n",
    "    if not grades:\n",
    "        print(f\"{person} nie istnieje w słowniku ocen.\")\n",
    "        return None\n",
    "    average = sum(grades.values()) / len(grades)\n",
    "    return average\n",
    "\n",
    "def below_threshold(grades_dict, threshold):\n",
    "    below_threshold_list = []\n",
    "    for person, grades in grades_dict.items():\n",
    "        average = sum(grades.values()) / len(grades)\n",
    "        if average < threshold:\n",
    "            below_threshold_list.append(person)\n",
    "    return below_threshold_list\n",
    "\n",
    "\n",
    "dict_rate = {\n",
    "    \"Adam\": { \"kolokwium 1\": 5, \"kolokwium 2\": 4.5,\"lisp 1\" : 5 },\n",
    "    \"Natalia\": { \"kolokwium 1\": 4, \"kolokwium 2\": 3.5, \"lisp 1\" : 2 },\n",
    "    \"Paweł\": { \"kolokwium 1\": 3, \"kolokwium 2\": 2, \"lisp 1\" : 2 },\n",
    "    \"Maria\": { \"kolokwium 1\": 2, \"kolokwium 2\": 2, \"lisp 1\": 3 }\n",
    "}\n",
    "\n",
    "person = \"Adam\"\n",
    "avg = average_grade(dict_rate, person)\n",
    "if avg is not None:\n",
    "    print(f\"Średnia ocen dla {person}: {avg:.2f}\")\n",
    "\n",
    "threshold = 3.0\n",
    "print(f\"\\nOsoby których średnia ocen jest niższa od {threshold}:\")\n",
    "below_threshold_list = below_threshold(dict_rate, threshold)\n",
    "for person in below_threshold_list:\n",
    "    print(person)\n"
   ]
  },
  {
   "cell_type": "markdown",
   "metadata": {
    "deletable": false,
    "editable": false,
    "nbgrader": {
     "cell_type": "markdown",
     "checksum": "ad48c86aa7cd648ee1b756fd2837119b",
     "grade": false,
     "grade_id": "cell-8cbc019fa4f0e4f7",
     "locked": true,
     "schema_version": 3,
     "solution": false,
     "task": false
    }
   },
   "source": [
    "## Zadanie 7\n",
    "\n",
    "Utwórz słownik `imię=>wiek`. Napisz funkcję przyjmującą jako argument słownik, zwracającą słownik `imię=>długość snu`, wyliczającą zalecaną dzienną długość snu dla każdej z osób w przesłanym słowniku:\n",
    "\n",
    "- Osoby powyżej 200 roku życia uznawane są za nieumarłych, którzy powinni udać się na sen wieczny,\n",
    "- Osoby z niedodatnim wiekiem powinny zostać pominięte,\n",
    "- Dla pozostałych:  dlugosc snu = 8h/log(10) (wiek w latach)\n",
    "\n",
    "$$długość\\ snu={\\frac{8\\ godzin}{log_{10}(wiek\\ w\\ latach)}}$$\n",
    "\n",
    "Powyższy wzór został zmyślony – proszę nie stosować się do niego :).\n",
    "\n",
    "Wykorzystaj mechanizm `dictionary comprehensions` oraz poniższy przykład:\n",
    "```python\n",
    "print(4 if True else 6)  # 4\n",
    "print(5 if False else 6) # 6\n",
    "\n",
    "slownik = {'a': 1, 'b': 2, 'c': 4, 'd': 1234,'e': -3}\n",
    "wynik = {'nowy_' + key: value if value > 0 else -value for key, value in slownik.items() if value < 10 }\n",
    "print(wynik)\n",
    "```\n",
    "`{'nowy_a': 1, 'nowy_b': 2, 'nowy_c': 4, 'nowy_e': 3}`\n",
    "\n",
    "Słownik `slownik` został wykorzystany do utworzenia nowego, którego klucze mają dopisany na początku tekst `nowy_`, złożony z wartości dodatnich ( `value if value > 0 else -value`), mniejszych niż 10 (`if value < 10`).\n",
    "\n"
   ]
  },
  {
   "cell_type": "code",
   "execution_count": 53,
   "metadata": {
    "deletable": false,
    "nbgrader": {
     "cell_type": "code",
     "checksum": "12fb7a98c63d1d0081320ce46deb8551",
     "grade": true,
     "grade_id": "cell-40019debf3e81e4f",
     "locked": false,
     "points": 1,
     "schema_version": 3,
     "solution": true,
     "task": false
    }
   },
   "outputs": [
    {
     "name": "stdout",
     "output_type": "stream",
     "text": [
      "Adam: 5.42 godzin snu dziennie\n",
      "Natalia: 4.99 godzin snu dziennie\n",
      "Maria: Sen wieczny godzin snu dziennie\n"
     ]
    }
   ],
   "source": [
    "import math\n",
    "\n",
    "def recommended_sleep_duration(age_dict):\n",
    "    sleep_duration_dict = {}\n",
    "    for name, age in age_dict.items():\n",
    "        if age <= 0:\n",
    "            continue\n",
    "        elif age >= 200:\n",
    "            sleep_duration_dict[name] = \"Sen wieczny\"\n",
    "        else:\n",
    "            sleep_duration = 8 / math.log10(age)\n",
    "            sleep_duration_dict[name] = round(sleep_duration, 2)\n",
    "    return sleep_duration_dict\n",
    "\n",
    "age_dict = {\n",
    "    \"Adam\": 30,\n",
    "    \"Natalia\": 40,\n",
    "    \"Paweł\": -5,\n",
    "    \"Maria\": 220\n",
    "}\n",
    "\n",
    "\n",
    "sleep_duration_dict = recommended_sleep_duration(age_dict)\n",
    "\n",
    "\n",
    "for name, sleep_duration in sleep_duration_dict.items():\n",
    "    print(f\"{name}: {sleep_duration} godzin snu dziennie\")\n"
   ]
  },
  {
   "cell_type": "markdown",
   "metadata": {
    "deletable": false,
    "editable": false,
    "nbgrader": {
     "cell_type": "markdown",
     "checksum": "cddfaedd1026b83c52912a3a281f7520",
     "grade": false,
     "grade_id": "cell-0563d4899b9418cc",
     "locked": true,
     "schema_version": 3,
     "solution": false,
     "task": false
    }
   },
   "source": [
    "## Zadanie 8\n",
    "\n",
    "Utwórz tablicę dwuwymiarową wielkości 10 na 10 elementów, wypełnij ją wartościami `False` oraz w losowych 20 miejscach wartościami `True` (upewnij się, że wylosowane pole nie ma wartości `True`). Napisz program pozwalający użytkownikowi wybrać element tablicy (użytkownik ma wpisać dwie liczby całkowite `x`,`y`),(współrzędna x określa położenie w poziomie a y w pionie). Wybrane współrzędne powinny zostać zapisane w pewnym zbiorze (`set`) jako krotka `(x, y)`. Jeśli użytkownik podał drugi raz te same współrzędne, powinna zostać wypisana informacja o tym (np. `\"Już tam strzelano\"`), a program powinien wrócić do wyboru współrzędnych. Jeśli podany element tablicy ma wartość `True`, wypisany powinien zostać tekst `\"Trafiony!\"`, w przeciwnym razie `\"Pudło!\"`. Program ma prosić o podanie współrzędnych do momentu zestrzelenia wszystkich wartości `True`.\n",
    "Aby dodać element do zbioru można wykorzystać operator `|` (pionowa kreska, OR) lub metodę `add`. Jak usunąć element ze zbioru? Jak uzyskać różnicę lub część wspólną (przecięcie, iloczyn) dwóch zbiorów?"
   ]
  },
  {
   "cell_type": "code",
   "execution_count": 1,
   "metadata": {
    "deletable": false,
    "nbgrader": {
     "cell_type": "code",
     "checksum": "9c8364571e959c73897bdba35f6f544d",
     "grade": true,
     "grade_id": "cell-b2b70a1aa7d62831",
     "locked": false,
     "points": 1,
     "schema_version": 3,
     "solution": true,
     "task": false
    }
   },
   "outputs": [
    {
     "name": "stdout",
     "output_type": "stream",
     "text": [
      "O X O O X O X O O O\n",
      "O O O O X O O O O O\n",
      "X O X O X O O O O O\n",
      "O O O X O O O O O X\n",
      "O O O O O O O X X O\n",
      "O O O O O O O O X O\n",
      "O O O O O O O O O O\n",
      "O X O O O O O O O O\n",
      "O X O O X X O O O O\n",
      "O X O O X X O X O O\n"
     ]
    }
   ],
   "source": [
    "import random\n",
    "\n",
    "\n",
    "board = [[False] * 10 for _ in range(10)]\n",
    "\n",
    "\n",
    "for _ in range(20):\n",
    "    x = random.randint(0, 9)\n",
    "    y = random.randint(0, 9)\n",
    "    while board[x][y]:\n",
    "        x = random.randint(0, 9)\n",
    "        y = random.randint(0, 9)\n",
    "    board[x][y] = True\n",
    "\n",
    "\n",
    "hits = set()\n",
    "\n",
    "\n",
    "while len(hits) < 20:  \n",
    "\n",
    "    # for row in board:\n",
    "    #     print(' '.join('X' if cell else 'O' for cell in row))\n",
    "    \n",
    "\n",
    "    x = int(input(\"Podaj współrzędną X (0-9): \"))\n",
    "    y = int(input(\"Podaj współrzędną Y (0-9): \"))\n",
    "    \n",
    "\n",
    "    if (x, y) in hits:\n",
    "        print(\"Już tam strzelano!\")\n",
    "        continue\n",
    "    \n",
    "\n",
    "    hits.add((x, y))\n",
    "    \n",
    "\n",
    "    if board[x][y]:\n",
    "        print(\"Trafiony!\")\n",
    "    else:\n",
    "        print(\"Pudło!\")\n",
    "\n",
    "print(\"Gratulacje! Zestrzeliłeś wszystkie statki!\")\n"
   ]
  },
  {
   "cell_type": "code",
   "execution_count": null,
   "metadata": {},
   "outputs": [],
   "source": []
  }
 ],
 "metadata": {
  "kernelspec": {
   "display_name": "Python 3 (ipykernel)",
   "language": "python",
   "name": "python3"
  },
  "language_info": {
   "codemirror_mode": {
    "name": "ipython",
    "version": 3
   },
   "file_extension": ".py",
   "mimetype": "text/x-python",
   "name": "python",
   "nbconvert_exporter": "python",
   "pygments_lexer": "ipython3",
   "version": "3.10.4"
  }
 },
 "nbformat": 4,
 "nbformat_minor": 2
}
