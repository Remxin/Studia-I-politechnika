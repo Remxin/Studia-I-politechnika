{
 "cells": [
  {
   "cell_type": "markdown",
   "metadata": {},
   "source": [
    "## Języki symboliczne - rok akademicki 2023/2023\n",
    "\n",
    "Przed rozpoczęciem pracy z notatnikiem zmień jego nazwę zgodnie z wzorem: `NrAlbumu_Nazwisko_Imie_PoprzedniaNazwa`\n",
    "\n",
    "Przed wysłaniem notatnika upewnij się, że rozwiązałeś wszystkie zadania/ćwiczenia, w szczególności, że uzupełniłeś wszystkie pola `YOUR CODE HERE` oraz `YOUR ANSWER HERE`."
   ]
  },
  {
   "cell_type": "markdown",
   "metadata": {
    "deletable": false,
    "editable": false,
    "nbgrader": {
     "cell_type": "markdown",
     "checksum": "3aa07d30eb9b4755dc5825064984cba2",
     "grade": false,
     "grade_id": "cell-ed6836e73712236e",
     "locked": true,
     "schema_version": 3,
     "solution": false
    }
   },
   "source": [
    "## Temat: Funkcje. Instrukcje `def`, `lambda`. Argumenty funkcji, wartości domyślne, parametry specjalne, napisy dokumentujące, przypisy do funkcji.\n",
    "Zapoznaj się z treścią niniejszego notatnika czytając i wykonując go komórka po komórce. Wykonaj napotkane zadania/ćwiczenia.\n",
    "\n",
    "### Definiowanie funkcji: Instrukcja `def`\n",
    "#### Składnia.\n",
    "- Struktura składni ma postać:\n",
    "\n",
    "```python\n",
    "def nazwa(argumenty):\n",
    "\tblok_instrukcji\n",
    "    return wyrażenie\n",
    "```    \n",
    "- Do tworzenia funkcji służy instrukcja `def`. \n",
    "- Lista argumentów może być pusta lub składać się z dowolnej ilości argumentów oddzielonych przecinkami. \n",
    "- Zawartość bloku instrukcji ustalana jest na podstawie wcięć. \n",
    "- Instrukcja `return` nie jest obowiązkowa. W przypadku jej braku funkcja zwraca wartość `None` \n",
    "- Wywołanie funkcji odbywa się poprzez podanie jej nazwy z odpowiednią liczbą argumentów.\n",
    "- Funkcja musi być zdefiniowana przed jej pierwszym użyciem.\n",
    "- wywołanie funkcji tworzy nową tablicę symboli przechowującą zmienne lokalne funkcji jak również aktualne argumenty przekazane do funkcji przez referencję\n",
    "\n",
    "https://docs.python.org/3/tutorial/controlflow.html#defining-functions"
   ]
  },
  {
   "cell_type": "code",
   "execution_count": null,
   "metadata": {},
   "outputs": [],
   "source": [
    "def przywitanie():   #definicja funkcji - bez argumentów\n",
    "    print('Hello')\n",
    "    \n",
    "przywitanie()   #wywołanie funkcji\n",
    "a = przywitanie()  #wywołanie z przypisaniem zwracanej wartości\n",
    "print(a)  #funkcja bez return zwaraca obiekt None"
   ]
  },
  {
   "cell_type": "code",
   "execution_count": null,
   "metadata": {},
   "outputs": [],
   "source": [
    "def przywitanie_razy_n(n, imie):  #definicja funkcji z 2 argumentami\n",
    "    for i in range(n):\n",
    "        print('Hello', imie)\n",
    "    \n",
    "przywitanie_razy_n(3, 'Adam')   #wywołanie funkcji"
   ]
  },
  {
   "cell_type": "markdown",
   "metadata": {
    "deletable": false,
    "editable": false,
    "nbgrader": {
     "cell_type": "markdown",
     "checksum": "6d542b5198a4fb351cb5006b4b26933c",
     "grade": false,
     "grade_id": "cell-6ff8a240ab24d111",
     "locked": true,
     "schema_version": 3,
     "solution": false
    }
   },
   "source": [
    "Funkcja może zwracać wartość, służy do tego instrukcja `return`. Może to być pojedyncza wartość lub wiele wartości w postaci krotki."
   ]
  },
  {
   "cell_type": "code",
   "execution_count": null,
   "metadata": {},
   "outputs": [],
   "source": [
    "def funkcja():  #definicja funkcji\n",
    "    return 2    # wartość zwracana przez funkcję\n",
    "\n",
    "a = funkcja()   # wywołanie funkcji - zwracana pojedyncza wartość\n",
    "print(a)"
   ]
  },
  {
   "cell_type": "code",
   "execution_count": null,
   "metadata": {},
   "outputs": [],
   "source": [
    "def funkcja2():       #definicja funkcji\n",
    "    return 1,2,3,4    #wartości zwracane przez funkcję\n",
    "\n",
    "a = funkcja2()        #wywołanie funkcji - zwracana krotka\n",
    "print(a)\n",
    "\n",
    "x,y,z,t = funkcja2()  #kolejne wywołanie funkcji - zwracana krotka z rozpakowaniem\n",
    "print(x,y,z,t)"
   ]
  },
  {
   "cell_type": "code",
   "execution_count": null,
   "metadata": {},
   "outputs": [],
   "source": [
    "def reszta(a, b):   #definicja funkcji o nazwie reszta - dwa argumenty formalne a, b \n",
    "    q = a//b       #jeżeli a, b całkowite q również całkowite\n",
    "    r = a - q*b    #reszta z dzielenia\n",
    "    return (q,r)   #funkcja zwraca dwa argumenty wynik dzielenia i resztę (to samo robi wbudowana metoda divmod())\n",
    "\n",
    "a1 = 2\n",
    "b1 = 3\n",
    "reszta(a1, b1) #wywołanie funkcji z dwoma argumentami aktualnymi "
   ]
  },
  {
   "cell_type": "markdown",
   "metadata": {
    "deletable": false,
    "editable": false,
    "nbgrader": {
     "cell_type": "markdown",
     "checksum": "ad968afec1616723f61783ec0f2ecf95",
     "grade": false,
     "grade_id": "cell-aa60a0c22b5dd7bb",
     "locked": true,
     "schema_version": 3,
     "solution": false
    }
   },
   "source": [
    "### Ćwiczenie 1\n",
    "Napisz program, który dla podanego z klawiatury promienia obliczy w funkcji pole i obwód koła. "
   ]
  },
  {
   "cell_type": "code",
   "execution_count": 3,
   "metadata": {
    "deletable": false,
    "nbgrader": {
     "cell_type": "code",
     "checksum": "e550341092d6857b5a909913c3d7edc3",
     "grade": false,
     "grade_id": "cell-692e1f3a138174d9",
     "locked": false,
     "schema_version": 3,
     "solution": true
    }
   },
   "outputs": [
    {
     "name": "stdout",
     "output_type": "stream",
     "text": [
      "obwod: 31.41592653589793\n",
      "pole: 78.53981633974483\n"
     ]
    }
   ],
   "source": [
    "import math\n",
    "\n",
    "def circleP(r: float):\n",
    "    o = 2 * math.pi * r\n",
    "    p = math.pi * r**2\n",
    "    return o, p\n",
    "pi = math.pi\n",
    "r = float(input('Podaj promień: '))\n",
    "obwod, pole = circleP(r)\n",
    "print(f\"obwod: {obwod}\\npole: {pole}\")\n",
    "\n"
   ]
  },
  {
   "cell_type": "markdown",
   "metadata": {
    "deletable": false,
    "editable": false,
    "nbgrader": {
     "cell_type": "markdown",
     "checksum": "70fb7509c6a1e288745f138e92ce459f",
     "grade": false,
     "grade_id": "cell-afa568896ca857aa",
     "locked": true,
     "schema_version": 3,
     "solution": false
    }
   },
   "source": [
    "### Ćwiczenie 2\n",
    "Napisz funkcję, która policzy:\n",
    "$$\n",
    "z = \\left\\{\\begin{array}{11}\n",
    "x^{2}+y & \\textrm{dla $x^{2}+y^{2}\\leq 1$} & \\qquad (1)\\\\\n",
    "2x+y^{2} & \\textrm{dla $y \\gt x+5$} & \\qquad (2)\\\\\n",
    "\\frac{1}{2}x^{2}+y & \\textrm{dla $ x^{2}+y^{2}>1$ i $y \\leq x+5$} & \\qquad (3)\n",
    "\\end{array}}\\right.\n",
    "$$\n",
    "\n",
    "oraz poda numer wzoru, wg którego wartość `z` została policzona. Wywołaj funkcję z parametrami podanymi poniżej."
   ]
  },
  {
   "cell_type": "code",
   "execution_count": 1,
   "metadata": {
    "deletable": false,
    "nbgrader": {
     "cell_type": "code",
     "checksum": "5a78c8f94b10d961d3a28f07ad5aca39",
     "grade": false,
     "grade_id": "cell-48179185dd284eba",
     "locked": false,
     "schema_version": 3,
     "solution": true
    }
   },
   "outputs": [
    {
     "name": "stdout",
     "output_type": "stream",
     "text": [
      "0.59\n",
      "68\n",
      "2.5\n"
     ]
    }
   ],
   "source": [
    "import math\n",
    "\n",
    "def fun_z(x: int, y: int):\n",
    "    if (x**2+y**2 <= 1):\n",
    "        return x**2 + y\n",
    "    elif y - x > 5:\n",
    "        return 2*x+y**2\n",
    "    elif x**2 + y**2 > 1 and y - x <= 5:\n",
    "        return 1/2*x**2+y\n",
    "\n",
    "print(fun_z(0.3,0.5))\n",
    "print(fun_z(2,8))\n",
    "print(fun_z(-1,2))"
   ]
  },
  {
   "cell_type": "markdown",
   "metadata": {
    "deletable": false,
    "editable": false,
    "nbgrader": {
     "cell_type": "markdown",
     "checksum": "ad1ac490fda112303a73635954277e6c",
     "grade": false,
     "grade_id": "cell-7c018d69a7114da0",
     "locked": true,
     "schema_version": 3,
     "solution": false
    }
   },
   "source": [
    "### Argumenty funkcji.\n",
    "Funkcje mogą przyjmować dowolną ilość argumentów, argumentem może być dowolny obiekt."
   ]
  },
  {
   "cell_type": "code",
   "execution_count": null,
   "metadata": {},
   "outputs": [],
   "source": [
    "# p-norma (dla p = 2 norma euklidesowa)\n",
    "def pnorm(wektor, p):\n",
    "    suma = 0\n",
    "    for x in wektor:\n",
    "        suma+=x**p\n",
    "    norma = suma**(1.0/p)\n",
    "    return norma\n",
    "\n",
    "pnorm([1,2,3],2)"
   ]
  },
  {
   "cell_type": "markdown",
   "metadata": {
    "deletable": false,
    "editable": false,
    "nbgrader": {
     "cell_type": "markdown",
     "checksum": "7bd50a693a8df0dc0bc9950bff99defe",
     "grade": false,
     "grade_id": "cell-0e5e4816f49cd518",
     "locked": true,
     "schema_version": 3,
     "solution": false
    }
   },
   "source": [
    "Dla tak zdefiniowanej funkcji liczba i kolejność argumentów formalnych (definicja funkcji) i aktualnych (wywołanie) musi być identyczna."
   ]
  },
  {
   "cell_type": "code",
   "execution_count": null,
   "metadata": {},
   "outputs": [],
   "source": [
    "pnorm([1,2,3])"
   ]
  },
  {
   "cell_type": "code",
   "execution_count": null,
   "metadata": {},
   "outputs": [],
   "source": [
    "pnorm([1,2,3], 2, 3)"
   ]
  },
  {
   "cell_type": "markdown",
   "metadata": {
    "deletable": false,
    "editable": false,
    "nbgrader": {
     "cell_type": "markdown",
     "checksum": "111527feb17b4ca5d17e1aad9e6777e5",
     "grade": false,
     "grade_id": "cell-5f64526d35a2abab",
     "locked": true,
     "schema_version": 3,
     "solution": false
    }
   },
   "source": [
    "Możliwe jest jednak coś takiego :) (ale tylko przy podaniu nazwy argumentu i jego wartości)."
   ]
  },
  {
   "cell_type": "code",
   "execution_count": null,
   "metadata": {},
   "outputs": [],
   "source": [
    "pnorm(p=2, wektor=[1,2,3])"
   ]
  },
  {
   "cell_type": "markdown",
   "metadata": {
    "deletable": false,
    "editable": false,
    "nbgrader": {
     "cell_type": "markdown",
     "checksum": "00ae8c0446d7f937c46f5425b1d08763",
     "grade": false,
     "grade_id": "cell-7c2a6ef6a7829c2a",
     "locked": true,
     "schema_version": 3,
     "solution": false
    }
   },
   "source": [
    "#### Argumenty domyślne funkcji.\n",
    "\n",
    "Można definiować tzw. argumenty domyślne, których jak nie podamy w wywołaniu to przyjmą ustawioną wartość domyślną.\n",
    "\n",
    "https://docs.python.org/3/tutorial/controlflow.html#more-on-defining-functions"
   ]
  },
  {
   "cell_type": "code",
   "execution_count": null,
   "metadata": {},
   "outputs": [],
   "source": [
    "# p-norma\n",
    "def pnorm(wektor, p=2, pp=True):\n",
    "    suma = 0\n",
    "    for x in wektor:\n",
    "        suma+=x**p\n",
    "    norma = suma**(1.0/p)\n",
    "    if pp:\n",
    "        print('Wartość {0} normy wektora {1} wynosi {2}' .format(p, wektor, norma))\n",
    "    return norma\n",
    "\n",
    "print(pnorm([1,2,3]))\n",
    "print(pnorm([1,2,3],3))\n",
    "print(pnorm([1,2,3],3,False))\n",
    "print(pnorm([1,2,3],pp=False))\n",
    "print(pnorm([1,2,3],p=3,pp=False))\n",
    "\n",
    "# niepoprawne wywołania\n",
    "#pnorm()                        # brak wymaganego argumentu\n",
    "#pnorm(pp=False,[1,2,3])        # argument pozycyjny za kluczowym\n",
    "#pnorm([1,2,3],wektor=[4,5,6])  # argument zduplikowany\n",
    "#pnorm([1,2,3],a=2)             # nieznany argument"
   ]
  },
  {
   "cell_type": "markdown",
   "metadata": {
    "deletable": false,
    "editable": false,
    "nbgrader": {
     "cell_type": "markdown",
     "checksum": "2e5f09dd53a3e658947cb451834ffb8f",
     "grade": false,
     "grade_id": "cell-d6795eadef2e123b",
     "locked": true,
     "schema_version": 3,
     "solution": false
    }
   },
   "source": [
    "#### Argumenty funkcji `*args`, `**kargs`.\n",
    "\n",
    "Ponieważ funkcje mogą przyjmować bardzo wiele argumentów, aby wyszystkich nie wypisywać w definicji funkcji używa się argumentów `*args` oraz `**kargs`. Argument `*args` to krotka, do której pakowane są argumenty podawane bezpośrednio (argumenty pozycyjne). Argument `**kargs` to słownik, do którego pakowane są argumenty podawane poprzez przypisanie wartości do nazwy (argumenty hasłowe). Argumenty pozycyjne muszą być podane jako pierwsze.\n",
    "\n",
    "https://docs.python.org/3/tutorial/controlflow.html#keyword-arguments"
   ]
  },
  {
   "cell_type": "code",
   "execution_count": null,
   "metadata": {},
   "outputs": [],
   "source": [
    "def cos(*args, **kargs):\n",
    "    print(args)\n",
    "    print(kargs)\n",
    "    \n",
    "cos(z=3, a='hello', b=(5,6))\n",
    "print('------------------------------------')\n",
    "cos(3, a='hello', b=(5,6))"
   ]
  },
  {
   "cell_type": "code",
   "execution_count": null,
   "metadata": {},
   "outputs": [],
   "source": [
    "def pnorm2(*args, **kargs):\n",
    "    wektor = args[0]\n",
    "    p = args[1]\n",
    "    pp = kargs['pp']\n",
    "    suma = 0\n",
    "    for x in wektor:\n",
    "        suma+=x**p\n",
    "    norma = suma**(1.0/p)\n",
    "    if pp:\n",
    "        print('Wartość {0} normy wektora {1} wynosi {2}'.format(p, wektor, norma))\n",
    "    return norma\n",
    "\n",
    "pnorm2([1,2,3],3,pp=True)"
   ]
  },
  {
   "cell_type": "markdown",
   "metadata": {
    "deletable": false,
    "editable": false,
    "nbgrader": {
     "cell_type": "markdown",
     "checksum": "9ab183be3499b639af89c3de0022d57c",
     "grade": false,
     "grade_id": "cell-0501eccf1f11c33a",
     "locked": true,
     "schema_version": 3,
     "solution": false,
     "task": false
    }
   },
   "source": [
    "#### \"Rozpakowywanie\" listy argumentów.\n",
    "\n",
    "Są przypadki, że argumenty mamy już „spakowane” w postaci krotki lub listy, ale np. niektóre funkcje akceptują tylko oddzielnie podane parametry pozycyjne. W tych przypadkach najpierw krotka lub lista musi być „rozpakowana”.  Funkcja wywoływana jest wtedy z operatorem `*` aby rozpakować argumenty podawane bezpośrednio lub `**` w przypadku argumentów typu kluczowego (argumenty hasłowe).\n",
    "\n",
    "https://docs.python.org/3/tutorial/controlflow.html#unpacking-argument-lists"
   ]
  },
  {
   "cell_type": "code",
   "execution_count": null,
   "metadata": {},
   "outputs": [],
   "source": [
    "print(list(range(3,6)))          # wywołanie z oddzielnymi argumentami (argumenty pozycyjne)\n",
    "argumenty = [3, 6]\n",
    "print(*argumenty)\n",
    "print(list(range(*argumenty)))  # wywołanie z argumentami rozpakowanymi"
   ]
  },
  {
   "cell_type": "code",
   "execution_count": null,
   "metadata": {},
   "outputs": [],
   "source": [
    "def cos(*args, **kargs):\n",
    "    print(args)\n",
    "    print(kargs)\n",
    "\n",
    "argumenty = {'n1':'Multikino', 'n2':'Świt', 'f1':'Gladiator','f2':'Piękna i bestia'}\n",
    "\n",
    "cos(argumenty)        # wywołanie bez rozpakowania - w funkcji tylko jeden arg. pozycyjny\n",
    "print('------------------------------------')\n",
    "cos(**argumenty)      # wywołanie z argumentami rozpakowanymi - w funkcji 4 arg. hasłowe\n",
    "print('------------------------------------')\n",
    "cos(1,2,**argumenty)  # wywołanie z argumentami rozpakowanymi - w funkcji 2 arg. pozycyjne i 4 arg. hasłowe\n",
    "print('------------------------------------')\n",
    "cos(1,2,**argumenty,f3='Bolek i Lolek')  # wywołanie z argumentami rozpakowanymi - w funkcji 2 arg. pozycyjne i 5 arg. hasłowych\n"
   ]
  },
  {
   "cell_type": "markdown",
   "metadata": {
    "deletable": false,
    "editable": false,
    "nbgrader": {
     "cell_type": "markdown",
     "checksum": "689f6d27168159c086e414025cba56ba",
     "grade": false,
     "grade_id": "cell-80a332fee43b67e8",
     "locked": true,
     "schema_version": 3,
     "solution": false,
     "task": false
    }
   },
   "source": [
    "#### Parametry specjalne używane w funkcji:  `/` i `*`.\n",
    "\n",
    "Dla poprawienia czytelności/efektywności w Pythonie od wersji 3.8 wprowadzono dla funkcji dodatkowe parametry specjalne, zapisywane przy pomocy symboli `/` oraz `*`. Parametry te pozwalają na szybką orientację czy przesłane do funkcji parametry są pozycyjne czy hasłowe (kluczowe).\n",
    "\n",
    "```python\n",
    "def nazwa(poz1, poz2, /, poz_lub_kl, *, kl1, kl2):\n",
    "\t\n",
    "```    \n",
    "Symbole `/` i `*` są opcjonalne. Jeśli wystąpią mówią o tym jak należy\n",
    "potraktować poszczególne parametry – jako tylko pozycyjne, pozycyjne lub\n",
    "typu klucz-wartość lub tylko kluczowe.\n",
    "Argumenty pozycyjne znajdują się przed znakiem `/`, który używany jest w tym\n",
    "kontekście do rozdzielenia parametrów pozycyjnych od kluczowych. Parametry występujące po / mogą być pozycyjne lub kluczowe albo tylko\n",
    "kluczowe.\n",
    "\n",
    "https://docs.python.org/3/tutorial/controlflow.html#special-parameters"
   ]
  },
  {
   "cell_type": "code",
   "execution_count": null,
   "metadata": {},
   "outputs": [],
   "source": [
    "def tylko_pozycyjne_arg(arg, /):\n",
    "    print(arg)\n",
    "    \n",
    "tylko_pozycyjne_arg(5)\n",
    "#tylko_pozycyjne_arg(arg=5)  # błąd "
   ]
  },
  {
   "cell_type": "code",
   "execution_count": null,
   "metadata": {},
   "outputs": [],
   "source": [
    "def tylko_kluczowe_arg(*, arg):\n",
    "    print(arg)\n",
    "    \n",
    "tylko_kluczowe_arg(arg=5)\n",
    "#tylko_kluczowe_arg(5)      # błąd "
   ]
  },
  {
   "cell_type": "code",
   "execution_count": null,
   "metadata": {},
   "outputs": [],
   "source": [
    "def mieszane_arg(poz, /, std, *, kl):\n",
    "    print(poz, std, kl)\n",
    "    \n",
    "mieszane_arg(1, std=2, kl=3)\n",
    "mieszane_arg(1, 2, kl=3)\n",
    "#mieszane_arg(1, 2, 3)      # błąd "
   ]
  },
  {
   "cell_type": "markdown",
   "metadata": {
    "deletable": false,
    "editable": false,
    "nbgrader": {
     "cell_type": "markdown",
     "checksum": "897258e0986b554ecab1566c3d1bd349",
     "grade": false,
     "grade_id": "cell-c01a99d205dacb9c",
     "locked": true,
     "schema_version": 3,
     "solution": false,
     "task": false
    }
   },
   "source": [
    "Jak uniknąć potencjalnej kolizji argumentu pozycyjnego i kluczowego - gdy klucz ma taką samą nazwę jak parametr pozycyjny?"
   ]
  },
  {
   "cell_type": "code",
   "execution_count": null,
   "metadata": {},
   "outputs": [],
   "source": [
    "def cos(nazwa, **kargs):     # możliwy konflikt nazw\n",
    "    print(nazwa)\n",
    "    print(kargs)\n",
    "    \n",
    "#cos(3, nazwa='hello')       # błąd TypeError: cos() got multiple values for argument 'nazwa'\n",
    "\n",
    "def cos1(nazwa, /, **kargs): # brak konfliku nazw\n",
    "    print(nazwa)\n",
    "    print(kargs)\n",
    "\n",
    "cos1(3, nazwa='hello')"
   ]
  },
  {
   "cell_type": "markdown",
   "metadata": {
    "deletable": false,
    "editable": false,
    "nbgrader": {
     "cell_type": "markdown",
     "checksum": "b2131bda8a8c11953961a4b9b277a58f",
     "grade": false,
     "grade_id": "cell-125a34bd8fd9d531",
     "locked": true,
     "schema_version": 3,
     "solution": false
    }
   },
   "source": [
    "#### Funkcje jako argumenty innych funkcji.\n",
    "\n",
    "Funkcje mogą być argumentami innych funkcji."
   ]
  },
  {
   "cell_type": "code",
   "execution_count": null,
   "metadata": {},
   "outputs": [],
   "source": [
    "def suma(a, b):\n",
    "    return a+b\n",
    "\n",
    "def roznica(a, b):\n",
    "    return a-b\n",
    "\n",
    "def wykonaj(x, y, f):\n",
    "    return f(x, y)"
   ]
  },
  {
   "cell_type": "code",
   "execution_count": null,
   "metadata": {},
   "outputs": [],
   "source": [
    "print('suma =', wykonaj(2, 3, suma))\n",
    "print('różnica =', wykonaj(2, 3, roznica))"
   ]
  },
  {
   "cell_type": "markdown",
   "metadata": {
    "deletable": false,
    "editable": false,
    "nbgrader": {
     "cell_type": "markdown",
     "checksum": "f807bc4e4bcd6d17faeab2d926bf592b",
     "grade": false,
     "grade_id": "cell-7ccb5d20201cff0c",
     "locked": true,
     "schema_version": 3,
     "solution": false
    }
   },
   "source": [
    "### Ćwiczenie 3\n",
    "Napisz funkcję obliczającą wartość $y=x^{2}+f(x)$, tak by funkcja $f(x)$ mogła być dowolną funkcją. Policz wartości $y$ dla $f(x)=\\sin(x)$ i $f(x)=\\cos(x)$."
   ]
  },
  {
   "cell_type": "code",
   "execution_count": 10,
   "metadata": {
    "deletable": false,
    "nbgrader": {
     "cell_type": "code",
     "checksum": "6e77a7a16b95b289e37c4d1cffbd98d2",
     "grade": false,
     "grade_id": "cell-8e38f622b92f78b6",
     "locked": false,
     "schema_version": 3,
     "solution": true
    }
   },
   "outputs": [
    {
     "name": "stdout",
     "output_type": "stream",
     "text": [
      "sin: 4.909297426825682\n",
      "cos: 3.5838531634528574\n"
     ]
    }
   ],
   "source": [
    "import math\n",
    "\n",
    "def parentFunc(x: float, f):\n",
    "    return x**2 + f(x)\n",
    "\n",
    "x = float(input('Podaj x: '))\n",
    "print(f\"sin: {parentFunc(x, math.sin)}\\ncos: {parentFunc(x, math.cos)}\")\n"
   ]
  },
  {
   "cell_type": "markdown",
   "metadata": {
    "deletable": false,
    "editable": false,
    "nbgrader": {
     "cell_type": "markdown",
     "checksum": "96e412977b29c4bcd0aff84ad6fdedd4",
     "grade": false,
     "grade_id": "cell-2740237d212db517",
     "locked": true,
     "schema_version": 3,
     "solution": false
    }
   },
   "source": [
    "#### Funkcje rekurencyjne.\n",
    "Funkcja może odwoływać się do samej siebie. Python nakłada ograniczenie na liczbę rekurencyjnych wywołań funkcji. Limit zwraca funkcja `sys.getrecursionlimit()`."
   ]
  },
  {
   "cell_type": "code",
   "execution_count": null,
   "metadata": {},
   "outputs": [],
   "source": [
    "def silnia(n):\n",
    "    if n<2:\n",
    "        return 1\n",
    "    return n*silnia(n-1)"
   ]
  },
  {
   "cell_type": "code",
   "execution_count": null,
   "metadata": {},
   "outputs": [],
   "source": [
    "silnia(4)"
   ]
  },
  {
   "cell_type": "code",
   "execution_count": null,
   "metadata": {},
   "outputs": [],
   "source": [
    "import sys\n",
    "sys.getrecursionlimit()"
   ]
  },
  {
   "cell_type": "markdown",
   "metadata": {
    "deletable": false,
    "editable": false,
    "nbgrader": {
     "cell_type": "markdown",
     "checksum": "7bba3e3a2539f075939567a444ff1f0a",
     "grade": false,
     "grade_id": "cell-fd0a21cb9b0e545e",
     "locked": true,
     "schema_version": 3,
     "solution": false
    }
   },
   "source": [
    "### Ćwiczenie 4\n",
    "Oblicz wartość symbolu Newtona $\\large{n \\choose k}$ dla zadanych liczb całkowitych $n, k$ gdy ($k \\leq n$). Obliczanie silni z danej liczby całkowitej umieść w funkcji."
   ]
  },
  {
   "cell_type": "code",
   "execution_count": 4,
   "metadata": {
    "deletable": false,
    "nbgrader": {
     "cell_type": "code",
     "checksum": "0882f22c94dfbac3e8e6d7d511177125",
     "grade": false,
     "grade_id": "cell-a5ef6302fe1bac61",
     "locked": false,
     "schema_version": 3,
     "solution": true
    }
   },
   "outputs": [
    {
     "name": "stdout",
     "output_type": "stream",
     "text": [
      "252.0\n"
     ]
    }
   ],
   "source": [
    "n = int(input('Podaj n: '))\n",
    "k = int(input('Podaj k: '))\n",
    "\n",
    "def factorial(n: int) -> int:\n",
    "    if n == 1: return 1\n",
    "    return n * factorial(n-1)\n",
    "\n",
    "def newton_symbol(n: int, k: int) -> int:\n",
    "    return factorial(n)/(factorial(k) * factorial(n-k))\n",
    "\n",
    "print(newton_symbol(n, k))\n",
    "\n"
   ]
  },
  {
   "cell_type": "markdown",
   "metadata": {
    "deletable": false,
    "editable": false,
    "nbgrader": {
     "cell_type": "markdown",
     "checksum": "1b53cefd29f5a38eb4708310600c19d0",
     "grade": false,
     "grade_id": "cell-d9e8e0a9d5b63881",
     "locked": true,
     "schema_version": 3,
     "solution": false,
     "task": false
    }
   },
   "source": [
    "#### Dokumentacja funkcji (klasy).\n",
    "\n",
    "- Na początku definicji funkcji możemy umieścić wiersz dokumentacyjny.\n",
    "- Wiersz dokumentacyjny może być stosowany również w klasach. \n",
    "- Łancuch dokumentacyjny jest przypisywany jako wartość atrybutu `__doc__` . \n",
    "- Jeżeli nie zostanie podany łańcuch dokumentacyjny to wartością atrybutu `__doc__` jest `None`.\n",
    "\n",
    "https://docs.python.org/3/tutorial/controlflow.html#documentation-strings"
   ]
  },
  {
   "cell_type": "code",
   "execution_count": null,
   "metadata": {},
   "outputs": [],
   "source": [
    "def funkcja():\n",
    "    \"\"\"Nasza przykładowa funkcja.\"\"\"\n",
    "    return 1,2"
   ]
  },
  {
   "cell_type": "code",
   "execution_count": null,
   "metadata": {},
   "outputs": [],
   "source": [
    "print(funkcja())\n",
    "funkcja.__doc__"
   ]
  },
  {
   "cell_type": "markdown",
   "metadata": {
    "deletable": false,
    "editable": false,
    "nbgrader": {
     "cell_type": "markdown",
     "checksum": "b95684d9a56fa30797fc5e3a144da831",
     "grade": false,
     "grade_id": "cell-6c8ff9b408e327c2",
     "locked": true,
     "schema_version": 3,
     "solution": false,
     "task": false
    }
   },
   "source": [
    "#### Przypisy do funkcji.\n",
    "\n",
    "- Przechowywane w atrybucie funkcji `__annotations__` jako słownik, nie mają wpływu na żadną z jej części.\n",
    "- Pomagają w identyfikacji typów argumentów przekazywanych do funkcji oraz typu jaki funkcja ma zwracać\n",
    "- Adnotacje dotyczące parametrów tworzone są poprzez dodanie dwukropka `:` po nazwie parametrów a następnie wskazaniu jego typu.\n",
    "- Adnotacje dotyczące typu zwracanego przez funkcje zdefiniowane są przy pomocy literału `->` po którym następuje typ. Literał ten znajduje się pomiędzy listą argumentów funkcji a dwukropkiem kończącym sekcję `def` funkcji.\n",
    "\n",
    "https://docs.python.org/3/tutorial/controlflow.html#function-annotations"
   ]
  },
  {
   "cell_type": "code",
   "execution_count": null,
   "metadata": {},
   "outputs": [],
   "source": [
    "def funkcja_z_adnotacjami(imie: str, nazwisko: str = 'Nowak', wiek: int = 0) -> str:\n",
    "    print(\"Adnotacje:\", funkcja_z_adnotacjami.__annotations__)\n",
    "    print('Argumenty:', imie, nazwisko, wiek)\n",
    "    return imie + ' ' + nazwisko + ' wiek: ' + str(wiek)\n",
    "\n",
    "print(funkcja_z_adnotacjami('Jan',wiek=20))"
   ]
  },
  {
   "cell_type": "markdown",
   "metadata": {
    "deletable": false,
    "editable": false,
    "nbgrader": {
     "cell_type": "markdown",
     "checksum": "f9fbf00891dfe4631d3d6762545b48fd",
     "grade": false,
     "grade_id": "cell-0962df0cc82c234c",
     "locked": true,
     "schema_version": 3,
     "solution": false
    }
   },
   "source": [
    "### Operator `lambda`.\n",
    "#### Składnia.\n",
    "Struktura składni ma postać:\n",
    "\n",
    "```python\n",
    "lambda argumenty : wyrażenie\t\n",
    "```    \n",
    "\n",
    "Tworzy funkcję anonimową w postaci wyrażenia. Zapis w jednej linii. Argumenty oddzielone przecinkami. Funkcja nie posiada nazwy, ale może być wywołana za pomocą zmiennej, do której zostanie przypisana. Funkcja tak zdefiniowana zwraca obliczoną wartość `wyrażenie`. \n",
    "\n",
    "Więcej informacji na temat operatora `lambda` przy listach, słownikach, wyrażeniach listowych.\n",
    "\n",
    "https://docs.python.org/3/tutorial/controlflow.html#lambda-expressions"
   ]
  },
  {
   "cell_type": "code",
   "execution_count": null,
   "metadata": {},
   "outputs": [],
   "source": [
    "a = lambda x, y : x + y   #definicja funkcji - zwraca obiekt funkcji, któremu można przypisać nazwę \n",
    "\n",
    "print(a(2, 3))\n",
    "print(a(7, -8))"
   ]
  },
  {
   "cell_type": "code",
   "execution_count": null,
   "metadata": {},
   "outputs": [],
   "source": [
    "def dodaj_wartosc(liczba):\n",
    "    return lambda val: val + liczba\n",
    "\n",
    "f = dodaj_wartosc(100)\n",
    "print(f(0))\n",
    "print(f(95))"
   ]
  },
  {
   "cell_type": "markdown",
   "metadata": {
    "deletable": false,
    "editable": false,
    "nbgrader": {
     "cell_type": "markdown",
     "checksum": "d52914bee4e7a82e0870f36a1c88f184",
     "grade": false,
     "grade_id": "cell-2e1ddc3ef1792861",
     "locked": true,
     "schema_version": 3,
     "solution": false
    }
   },
   "source": [
    "### Ćwiczenie 5.\n",
    "#### Tablicowanie funkcji\n",
    "Stablicować daną funkcję $y=f(x)$ w zadanym przedziale $(a,b)$ z krokiem $dx$ ($dx<<a-b$). Funkcja dana jest przepisem:\n",
    "\n",
    "$$\n",
    "z = \\left\\{ \\begin{array}{11}\n",
    "-2x+ \\frac{1}{5} & \\textrm{dla $x \\lt -2$} & \\qquad (1)\\\\\n",
    "x^{2}+3 & \\textrm{dla $-2 \\le x \\le 4$} & \\qquad (2)\\\\\n",
    "\\frac{1}{2}x^+1 & \\textrm{dla $ x \\gt 4$} & \\qquad (3)\n",
    "\\end{array} \\right.\n",
    "$$\n",
    "wydrukuj wyniki dla przykładowego wywołania z parametrami a=1, b=5, dx=1"
   ]
  },
  {
   "cell_type": "code",
   "execution_count": 4,
   "metadata": {
    "deletable": false,
    "nbgrader": {
     "cell_type": "code",
     "checksum": "38ba522e893c0bc1063f1b3bd48e8823",
     "grade": false,
     "grade_id": "cell-d1bb3fd27900debd",
     "locked": false,
     "schema_version": 3,
     "solution": true
    }
   },
   "outputs": [
    {
     "name": "stdout",
     "output_type": "stream",
     "text": [
      "[4.0, 4.0404, 4.0816, 4.1236, 4.1664, 4.21, 4.2544, 4.2996, 4.3456, 4.3924, 4.44, 4.4884, 4.5376, 4.5876, 4.638400000000001, 4.69, 4.742400000000001, 4.7956, 4.849600000000001, 4.904400000000001, 4.960000000000001, 5.016400000000001, 5.073600000000001, 5.131600000000001, 5.190400000000001, 5.250000000000002, 5.310400000000001, 5.371600000000001, 5.433600000000002, 5.496400000000001, 5.560000000000002, 5.624400000000001, 5.689600000000002, 5.755600000000002, 5.822400000000002, 5.890000000000002, 5.958400000000003, 6.027600000000002, 6.097600000000003, 6.168400000000002, 6.240000000000002, 6.312400000000002, 6.385600000000003, 6.459600000000003, 6.534400000000003, 6.610000000000003, 6.686400000000003, 6.763600000000004, 6.841600000000003, 6.920400000000003, 7.0000000000000036, 7.080400000000004, 7.1616000000000035, 7.243600000000004, 7.326400000000004, 7.410000000000004, 7.494400000000004, 7.579600000000005, 7.665600000000005, 7.752400000000004, 7.840000000000004, 7.928400000000005, 8.017600000000005, 8.107600000000005, 8.198400000000005, 8.290000000000006, 8.382400000000006, 8.475600000000005, 8.569600000000005, 8.664400000000006, 8.760000000000005, 8.856400000000006, 8.953600000000005, 9.051600000000008, 9.150400000000007, 9.250000000000007, 9.350400000000008, 9.451600000000006, 9.553600000000007, 9.656400000000009, 9.760000000000009, 9.864400000000007, 9.969600000000007, 10.075600000000009, 10.182400000000008, 10.290000000000008, 10.39840000000001, 10.507600000000007, 10.617600000000008, 10.728400000000008, 10.840000000000009, 10.952400000000008, 11.065600000000009, 11.17960000000001, 11.29440000000001, 11.410000000000009, 11.52640000000001, 11.64360000000001, 11.76160000000001, 11.88040000000001, 12.00000000000001, 12.12040000000001, 12.24160000000001, 12.36360000000001, 12.486400000000012, 12.610000000000012, 12.734400000000011, 12.859600000000013, 12.985600000000012, 13.112400000000012, 13.240000000000013, 13.368400000000012, 13.497600000000013, 13.627600000000013, 13.758400000000012, 13.890000000000013, 14.022400000000014, 14.155600000000014, 14.289600000000014, 14.424400000000015, 14.560000000000015, 14.696400000000015, 14.833600000000015, 14.971600000000015, 15.110400000000014, 15.250000000000016, 15.390400000000016, 15.531600000000015, 15.673600000000016, 15.816400000000016, 15.960000000000017, 16.104400000000016, 16.249600000000015, 16.395600000000016, 16.542400000000015, 16.69000000000002, 16.838400000000018, 16.98760000000002, 17.13760000000002, 17.288400000000017, 17.44000000000002, 17.59240000000002, 17.745600000000017, 17.89960000000002, 18.054400000000022, 18.210000000000022, 18.36640000000002, 18.523600000000023, 18.68160000000002, 18.84040000000002, 3.0000000000000013, 3.010000000000001, 3.020000000000001, 3.0300000000000007, 3.0400000000000005, 3.0500000000000003, 3.06, 3.07, 3.0799999999999996, 3.0899999999999994, 3.099999999999999, 3.109999999999999, 3.1199999999999988, 3.1299999999999986, 3.1399999999999983, 3.149999999999998, 3.159999999999998, 3.1699999999999977, 3.1799999999999975, 3.1899999999999973, 3.199999999999997, 3.209999999999997, 3.2199999999999966, 3.2299999999999964, 3.239999999999996, 3.249999999999996, 3.259999999999996, 3.2699999999999956, 3.2799999999999954, 3.289999999999995, 3.299999999999995, 3.3099999999999947, 3.3199999999999945, 3.3299999999999943, 3.339999999999994, 3.349999999999994, 3.3599999999999937, 3.3699999999999934, 3.3799999999999932, 3.389999999999993, 3.399999999999993, 3.4099999999999926, 3.4199999999999924, 3.429999999999992, 3.439999999999992, 3.4499999999999917, 3.4599999999999915, 3.4699999999999913, 3.479999999999991, 3.489999999999991, 3.4999999999999907, 3.5099999999999905, 3.5199999999999902, 3.52999999999999, 3.53999999999999, 3.5499999999999896, 3.5599999999999894, 3.569999999999989, 3.579999999999989, 3.5899999999999888, 3.5999999999999885, 3.6099999999999883, 3.619999999999988, 3.629999999999988, 3.6399999999999877, 3.6499999999999875, 3.6599999999999873, 3.669999999999987, 3.679999999999987, 3.6899999999999866, 3.6999999999999864, 3.709999999999986, 3.719999999999986, 3.7299999999999858, 3.7399999999999856, 3.7499999999999853, 3.759999999999985, 3.769999999999985, 3.7799999999999847, 3.7899999999999845, 3.7999999999999843, 3.809999999999984, 3.819999999999984, 3.8299999999999836, 3.8399999999999834, 3.849999999999983, 3.859999999999983, 3.869999999999983, 3.8799999999999826, 3.8899999999999824, 3.899999999999982, 3.909999999999982, 3.9199999999999817, 3.9299999999999815, 3.9399999999999813, 3.949999999999981, 3.959999999999981, 3.9699999999999807, 3.9799999999999804, 3.9899999999999802, 3.99999999999998, 4.00999999999998, 4.01999999999998, 4.02999999999998, 4.03999999999998, 4.049999999999979, 4.059999999999979, 4.069999999999979, 4.079999999999979, 4.0899999999999785, 4.099999999999978, 4.109999999999978, 4.119999999999978, 4.129999999999978, 4.1399999999999775, 4.149999999999977, 4.159999999999977, 4.169999999999977, 4.179999999999977, 4.189999999999976, 4.199999999999976, 4.209999999999976, 4.219999999999976, 4.229999999999976, 4.239999999999975, 4.249999999999975, 4.259999999999975, 4.269999999999975, 4.2799999999999745, 4.289999999999974, 4.299999999999974, 4.309999999999974, 4.319999999999974, 4.329999999999973, 4.339999999999973, 4.349999999999973, 4.359999999999973, 4.369999999999973, 4.379999999999972, 4.389999999999972, 4.399999999999972, 4.409999999999972, 4.4199999999999715, 4.429999999999971, 4.439999999999971, 4.449999999999971, 4.459999999999971, 4.46999999999997, 4.47999999999997, 4.48999999999997, 4.49999999999997, 4.50999999999997, 4.519999999999969, 4.529999999999969, 4.539999999999969, 4.549999999999969, 4.5599999999999685, 4.569999999999968, 4.579999999999968, 4.589999999999968, 4.599999999999968, 4.6099999999999675, 4.619999999999967, 4.629999999999967, 4.639999999999967, 4.649999999999967, 4.659999999999966, 4.669999999999966, 4.679999999999966, 4.689999999999966, 4.6999999999999655, 4.709999999999965, 4.719999999999965, 4.729999999999965, 4.739999999999965, 4.7499999999999645, 4.759999999999964, 4.769999999999964, 4.779999999999964, 4.789999999999964, 4.799999999999963, 4.809999999999963, 4.819999999999963, 4.829999999999963, 4.8399999999999626, 4.849999999999962, 4.859999999999962, 4.869999999999962, 4.879999999999962, 4.8899999999999615, 4.899999999999961, 4.909999999999961, 4.919999999999961, 4.929999999999961, 4.93999999999996, 4.94999999999996, 4.95999999999996, 4.96999999999996, 4.97999999999996, 4.989999999999959, 4.999999999999959, 5.009999999999959, 5.019999999999959, 5.0299999999999585, 5.039999999999958, 5.049999999999958, 5.059999999999958, 5.069999999999958, 5.079999999999957, 5.089999999999957, 5.099999999999957, 5.109999999999957, 5.119999999999957, 5.129999999999956, 5.139999999999956, 5.149999999999956, 5.159999999999956, 5.1699999999999555, 5.179999999999955, 5.189999999999955, 5.199999999999955, 5.209999999999955, 5.2199999999999545, 5.229999999999954, 5.239999999999954, 5.249999999999954, 5.259999999999954, 5.269999999999953, 5.279999999999953, 5.289999999999953, 5.299999999999953, 5.3099999999999525, 5.319999999999952, 5.329999999999952, 5.339999999999952, 5.349999999999952, 5.3599999999999515, 5.369999999999951, 5.379999999999951, 5.389999999999951, 5.399999999999951, 5.40999999999995, 5.41999999999995, 5.42999999999995, 5.43999999999995, 5.4499999999999496, 5.459999999999949, 5.469999999999949, 5.479999999999949, 5.489999999999949, 5.4999999999999485, 5.509999999999948, 5.519999999999948, 5.529999999999948, 5.539999999999948, 5.549999999999947, 5.559999999999947, 5.569999999999947, 5.579999999999947, 5.589999999999947, 5.599999999999946, 5.609999999999946, 5.619999999999946, 5.629999999999946, 5.6399999999999455, 5.649999999999945, 5.659999999999945, 5.669999999999945, 5.679999999999945, 5.689999999999944, 5.699999999999944, 5.709999999999944, 5.719999999999944, 5.729999999999944, 5.739999999999943, 5.749999999999943, 5.759999999999943, 5.769999999999943, 5.7799999999999425, 5.789999999999942, 5.799999999999942, 5.809999999999942, 5.819999999999942, 5.8299999999999415, 5.839999999999941, 5.849999999999941, 5.859999999999941, 5.869999999999941, 5.87999999999994, 5.88999999999994, 5.89999999999994, 5.90999999999994, 5.9199999999999395, 5.929999999999939, 5.939999999999939, 5.949999999999939, 5.959999999999939, 5.9699999999999385, 5.979999999999938, 5.989999999999938, 5.999999999999938]\n"
     ]
    }
   ],
   "source": [
    "import math\n",
    "\n",
    "def calc(x: float):\n",
    "    if x < -2:\n",
    "        return -2*x + 1/5\n",
    "    elif x <= 4:\n",
    "        return x**2 + 3\n",
    "    else:\n",
    "        return 1/2 * x+1\n",
    "a = float(input('Podaj a: '))\n",
    "b = float(input('Podaj b: '))\n",
    "dx = float(input('Podaj dx: '))\n",
    "\n",
    "tab = []\n",
    "\n",
    "start = a\n",
    "while start <= b:\n",
    "    tab.append(calc(start))\n",
    "    start += dx\n",
    "\n",
    "print(tab)\n",
    "\n",
    "\n",
    "\n",
    "\n"
   ]
  },
  {
   "cell_type": "markdown",
   "metadata": {
    "deletable": false,
    "editable": false,
    "nbgrader": {
     "cell_type": "markdown",
     "checksum": "f759073a53f8d3c02d8e90af04dd735a",
     "grade": false,
     "grade_id": "cell-bcb7ebf9cfdd46d0",
     "locked": true,
     "schema_version": 3,
     "solution": false,
     "task": false
    }
   },
   "source": [
    "## Zadanie 1\n",
    "\n",
    "Napisz funkcję sprawdzającą czy liczba przesłana jako argument jest liczbą pierwszą (wykorzystaj else do pętli for). Napisz funkcję zwracającą podaną liczbę Mersenne'a $M(p)=2^{p}-1$. Sprawdź które liczby Mersenne'a dla $ p=1, 2, \\dots, 31 $ są pierwsze. Oznacz typ zwracany przez funkcje (przy pomocy `-> typ`). \n",
    "https://pl.wikipedia.org/wiki/Liczby_Mersenne%E2%80%99a"
   ]
  },
  {
   "cell_type": "code",
   "execution_count": 8,
   "metadata": {
    "deletable": false,
    "nbgrader": {
     "cell_type": "code",
     "checksum": "d6c913860b0d641ae19663e66ffd9d3e",
     "grade": true,
     "grade_id": "cell-ae05c19b6a7ae984",
     "locked": false,
     "points": 2,
     "schema_version": 3,
     "solution": true,
     "task": false
    }
   },
   "outputs": [
    {
     "name": "stdout",
     "output_type": "stream",
     "text": [
      "2\n",
      "3\n",
      "5\n",
      "7\n",
      "13\n",
      "17\n",
      "19\n",
      "31\n"
     ]
    }
   ],
   "source": [
    "def is_prime(n: int) -> bool:\n",
    "    if n <= 1:\n",
    "        return False\n",
    "    if n <= 3:\n",
    "        return True\n",
    "    if n % 2 == 0 or n % 3 == 0:\n",
    "        return False\n",
    "   \n",
    "    for i in range(5, int(n ** 0.5) + 1, 6):\n",
    "        if n % i == 0 or n % (i + 2) == 0: break\n",
    "    else:\n",
    "        return True\n",
    "    return False\n",
    "\n",
    "def mersenne(n: int) -> int:\n",
    "    return 2**n - 1\n",
    "\n",
    "for p in range(1, 32):\n",
    "    mer = mersenne(p)\n",
    "    if is_prime(mer):\n",
    "        print(p)"
   ]
  },
  {
   "cell_type": "markdown",
   "metadata": {
    "deletable": false,
    "editable": false,
    "nbgrader": {
     "cell_type": "markdown",
     "checksum": "5b5ec2bc7f467774fdfc825e17a9bd81",
     "grade": false,
     "grade_id": "cell-50d2a62f541f2e4e",
     "locked": true,
     "schema_version": 3,
     "solution": false,
     "task": false
    }
   },
   "source": [
    "## Zadanie 2\n",
    "\n",
    "Napisz funkcję przyjmującą dwa argumenty: tekst do wypisania oraz szerokość linii (argument o domyślnej wartości 80), wypisującą przesłany tekst wycentrowany w linii.\n",
    "\n",
    "Przykładowe wywołania:\n",
    "```python\n",
    "printCenter(\"Zażółć gęślą jaźń\")\n",
    "printCenter(\"Zażółć gęślą jaźń\", 70)\n",
    "```  "
   ]
  },
  {
   "cell_type": "code",
   "execution_count": 12,
   "metadata": {
    "deletable": false,
    "nbgrader": {
     "cell_type": "code",
     "checksum": "a146229e143e1d7ee2387db27ebf05eb",
     "grade": true,
     "grade_id": "cell-187a5add7f43479d",
     "locked": false,
     "points": 1,
     "schema_version": 3,
     "solution": true,
     "task": false
    }
   },
   "outputs": [
    {
     "name": "stdout",
     "output_type": "stream",
     "text": [
      "                                                                        Zażółć gęślą jaźń                                                                        \n",
      "                                          Zażółć gęślą jaźń                                          \n"
     ]
    }
   ],
   "source": [
    "def printCenter(s: str, l = 80):\n",
    "    paddingRight, paddingLeft = l-len(s) // 2, l-len(s) // 2\n",
    "    if l-len(s) % 2 == 0: paddingLeft += 1\n",
    "    print(\"\".join([\" \" for x in range(0, paddingLeft)]) + s + \"\".join([\" \" for x in range(0, paddingRight)]))\n",
    "\n",
    "\n",
    "printCenter(\"Zażółć gęślą jaźń\")\n",
    "printCenter(\"Zażółć gęślą jaźń\", 50)"
   ]
  },
  {
   "cell_type": "markdown",
   "metadata": {
    "deletable": false,
    "editable": false,
    "nbgrader": {
     "cell_type": "markdown",
     "checksum": "18f3bf68e77950d95dea85d839274c70",
     "grade": false,
     "grade_id": "cell-3d671738e0dd2b1c",
     "locked": true,
     "schema_version": 3,
     "solution": false,
     "task": false
    }
   },
   "source": [
    "## Zadanie 3\n",
    "\n",
    "Napisz funkcję przyjmującą cztery argumenty: `x` początkowe (domyślnie -1), `x` końcowe\n",
    "(domyślnie 1), liczbę przedziałów (domyślnie 10) oraz funkcję `fx`. Funkcja powinna wypisywać\n",
    "wartości `x` oraz funkcji przesłanej jako argument `fx` dla każdego `x` z podanego zakresu/przedziału tablicowania/ . Zaprezentuj działanie funkcji wykorzystując operator `lambda` wyrażenia (prześlij `fx` jako lambdę).\n",
    "\n",
    "Przykład działania:\n",
    "```\n",
    "-1.000000000000  -0.841470984808\n",
    "-0.777777777778  -0.701697876147\n",
    "-0.555555555556  -0.527415385772\n",
    "-0.333333333333  -0.327194696796\n",
    "-0.111111111111  -0.110882628510\n",
    " 0.111111111111   0.110882628510\n",
    " 0.333333333333   0.327194696796\n",
    " 0.555555555556   0.527415385772\n",
    " 0.777777777778   0.701697876147\n",
    " 1.000000000000   0.841470984808```"
   ]
  },
  {
   "cell_type": "code",
   "execution_count": 1,
   "metadata": {
    "deletable": false,
    "nbgrader": {
     "cell_type": "code",
     "checksum": "4cb6f9c89bd8d811e10b24522b579a92",
     "grade": true,
     "grade_id": "cell-fb6da9a0d5b196ae",
     "locked": false,
     "points": 2,
     "schema_version": 3,
     "solution": true,
     "task": false
    }
   },
   "outputs": [
    {
     "name": "stdout",
     "output_type": "stream",
     "text": [
      "x: -1\t fun: 1\n",
      "x: -0.8\t fun: 0.6400000000000001\n",
      "x: -0.6000000000000001\t fun: 0.3600000000000001\n",
      "x: -0.4000000000000001\t fun: 0.16000000000000006\n",
      "x: -0.20000000000000007\t fun: 0.04000000000000003\n",
      "x: -5.551115123125783e-17\t fun: 3.0814879110195774e-33\n",
      "x: 0.19999999999999996\t fun: 0.03999999999999998\n",
      "x: 0.39999999999999997\t fun: 0.15999999999999998\n",
      "x: 0.6\t fun: 0.36\n",
      "x: 0.8\t fun: 0.6400000000000001\n",
      "x: 1.0\t fun: 1.0\n"
     ]
    }
   ],
   "source": [
    "\n",
    "def printFX(fx, start = -1, end = 1, parts = 10):\n",
    "    step = (end - start) / parts\n",
    "    x = start\n",
    "    while x <= end:\n",
    "        print(f\"x: {x}\\t fun: {fx(x)}\")\n",
    "        x += step\n",
    "\n",
    "printFX(lambda x: x**2)"
   ]
  },
  {
   "cell_type": "markdown",
   "metadata": {
    "deletable": false,
    "editable": false,
    "nbgrader": {
     "cell_type": "markdown",
     "checksum": "a8262ade03bac68114174b5bd38f0eed",
     "grade": false,
     "grade_id": "cell-485317a41b9467a6",
     "locked": true,
     "schema_version": 3,
     "solution": false,
     "task": false
    }
   },
   "source": [
    "## Zadanie 4\n",
    "\n",
    "Napisz cztery funkcje:\n",
    "1. `k4` zwracająca pseudolosową liczbę całkowitą od 1 do 4 włącznie,\n",
    "2. `k8` zwracająca pseudolosową liczbę całkowitą od 1 do 8 włącznie,\n",
    "3. `k10` zwracająca pseudolosową liczbę całkowitą od 1 do 10 włącznie,\n",
    "4. `k20` zwracającą pseudolosową liczbę całkowitą od 1 do 20 włącznie.\n",
    "\n",
    "Napisz funkcję `getDice` przyjmującą jako argument zmienną tekstową, która:\n",
    "1. Dla tekstu \"k4\" zwraca funkcję `k4`,\n",
    "2. Dla tekstu \"k8\" zwraca funkcję `k8`,\n",
    "3. Dla tekstu \"k10\" zwraca funkcję `k10`,\n",
    "4. Dla tekstu \"k20\" zwraca funkcję `k20`.\n",
    "\n",
    "Przykładowe wywołanie funkcji losującej:\n",
    "```python \n",
    "import random\n",
    "def k20():\n",
    "    return random.randint(1, 20)\n",
    "```\n",
    "Napisz funkcję `rollDice` przyjmującą jako argument tekst w formacie \"XkY\", gdzie X oraz Y są\n",
    "liczbami naturalnymi. Funkcja ta powinna wyciągnąć z tekstu wartości X oraz Y (patrz poniżej: dzielenie tekstu) i wywołać X razy funkcję zwróconą przez getDice z argumentem \"kY\". Funkcja rollDice powinna zwracać sumę wylosowanych wartości.\n",
    "\n",
    "Przykładowe wywołania:\n",
    "```python \n",
    "rollDice(\"1k4\")\n",
    "rollDice(\"2k10\")\n",
    "```\n",
    "\n",
    "Co się stanie jeśli wywołamy funkcję `rollDice` z argumentami \"10k4\", \"100k4\", \"1k7\", \"0k4\"? \n",
    "Jak zmodyfikować funkcję, aby działało wywołanie \"1e5k4\" (1e5 losowań k4)?\n",
    "\n",
    "Patrz też:\n",
    "\n",
    "https://docs.python.org/3/library/random.html\n",
    "\n",
    "Dzielenie tekstu:\n",
    "```python \n",
    "tekst=\"2k8\"\n",
    "liczby=tekst.split(\"k\")\n",
    "print(liczby[0], liczby[1])\n",
    "\n",
    "# a, b=tekst.split(\"k\")\n",
    "# print(a, b)\n",
    "```"
   ]
  },
  {
   "cell_type": "code",
   "execution_count": 15,
   "metadata": {
    "deletable": false,
    "nbgrader": {
     "cell_type": "code",
     "checksum": "045d06ace771325a1d6cfb6acf69dfb6",
     "grade": true,
     "grade_id": "cell-032589c9faeec58e",
     "locked": false,
     "points": 3,
     "schema_version": 3,
     "solution": true,
     "task": false
    }
   },
   "outputs": [
    {
     "name": "stdout",
     "output_type": "stream",
     "text": [
      "wylosowana liczba oczek (1-8): 6\n",
      "wylosowana liczba oczek (1-8): 4\n",
      "wylosowana liczba oczek (1-8): 3\n",
      "wylosowana liczba oczek (1-8): 8\n",
      "wylosowana liczba oczek (1-8): 5\n",
      "wylosowana liczba oczek (1-8): 6\n",
      "wylosowana liczba oczek (1-8): 3\n",
      "wylosowana liczba oczek (1-8): 3\n",
      "wylosowana liczba oczek (1-8): 2\n",
      "wylosowana liczba oczek (1-8): 1\n"
     ]
    }
   ],
   "source": [
    "import random\n",
    "\n",
    "def k4():\n",
    "    return random.randint(1, 4)\n",
    "\n",
    "def k8():\n",
    "    return random.randint(1, 8)\n",
    "\n",
    "def k10():\n",
    "    return random.randint(1, 10)\n",
    "\n",
    "def k20():\n",
    "    return random.randint(1, 20)\n",
    "\n",
    "\n",
    "input_string = input(\"Podaj string w formacie xky, gdzie x i y są liczbami całkowitymi: \")\n",
    "x, y = input_string.split(\"k\")\n",
    "x = int(x)\n",
    "y = \"k\" + y\n",
    "\n",
    "for i in range(0, x):\n",
    "    match y:\n",
    "        case \"k4\":\n",
    "            print(\"wylosowana liczba oczek (1-4):\", k4())\n",
    "        case \"k8\":\n",
    "            print(\"wylosowana liczba oczek (1-8):\", k8())\n",
    "        case \"k10\":\n",
    "            print(\"wylosowana liczba oczek (1-10):\", k10())\n",
    "        case \"k20\":\n",
    "            print(\"wylosowana liczba oczek (1-20):\", k20())\n",
    "\n"
   ]
  },
  {
   "cell_type": "markdown",
   "metadata": {
    "deletable": false,
    "editable": false,
    "nbgrader": {
     "cell_type": "markdown",
     "checksum": "5809ddbabd74b35921a2773921d99f11",
     "grade": false,
     "grade_id": "cell-292c6e2d10252d56",
     "locked": true,
     "schema_version": 3,
     "solution": false,
     "task": false
    }
   },
   "source": [
    "## Zadanie 5\n",
    "\n",
    "Napisz funkcję wypisującą napisy końcowe (filmu, serialu, tego programu). Funkcja ta powinna przyjmować dowolną liczbę argumentów i wypisywać każdy kolejny co sekundę, wycentrowany – najpierw argumenty zwykłe, potem kluczowe. Wykorzystaj funkcję z zadania 2.\n",
    "\n",
    "Przykład wywołania:\n",
    "\n",
    "                          Cudowniejszy program pokazowy                          \n",
    "                         Powrót Złego Markiza Cul-de-Sac                         \n",
    "                                Scenariusz: Autor                                \n",
    "                               Scenografia: Autor                               \n",
    "                              Podziękowania: Python\n",
    "                                                           \n",
    "\n",
    "Do pobrania długości tekstu można użyć funkcji `len()`. Do czekania wykorzystaj funkcję `time.sleep()` – aby jej użyć należy zaimportować moduł time: \n",
    "```python\n",
    "import time\n",
    "```\n",
    "Dodaj dokumentację do funkcji – opisz jakie argumenty przyjmuje i co robi.\n",
    "\n"
   ]
  },
  {
   "cell_type": "code",
   "execution_count": 8,
   "metadata": {
    "deletable": false,
    "nbgrader": {
     "cell_type": "code",
     "checksum": "ae1928ae99a63ff59a5949a83a8ddad5",
     "grade": true,
     "grade_id": "cell-4330c531c4a15742",
     "locked": false,
     "points": 2,
     "schema_version": 3,
     "solution": true,
     "task": false
    }
   },
   "outputs": [
    {
     "name": "stdout",
     "output_type": "stream",
     "text": [
      "                                                                  Cudowniejszy program pokazowy                                                                  \n",
      "                                                                 Powrót Złego Markiza Cul-de-Sac                                                                 \n",
      "                                                                        Scenariusz: Autor                                                                        \n",
      "                                                                       Scenografia: Autor                                                                       \n",
      "                                                                      Podziękowania: Python                                                                      \n"
     ]
    }
   ],
   "source": [
    "import time\n",
    "\n",
    "def printCenter(s: str, l = 80):\n",
    "    paddingRight, paddingLeft = l-len(s) // 2, l-len(s) // 2\n",
    "    if l-len(s) % 2 == 0: paddingLeft += 1\n",
    "    print(\"\".join([\" \" for x in range(0, paddingLeft)]) + s + \"\".join([\" \" for x in range(0, paddingRight)]))\n",
    "\n",
    "\n",
    "def credits(*args, **kargs):\n",
    "    for t in args:\n",
    "        printCenter(t)\n",
    "        time.sleep(1)\n",
    "    for key in kargs:\n",
    "        printCenter(f'{key}: {kargs[key]}')\n",
    "        time.sleep(1)\n",
    "\n",
    "\n",
    "\n",
    "\n",
    "\n",
    "credits(\"Cudowniejszy program pokazowy\",\n",
    "        \"Powrót Złego Markiza Cul-de-Sac\",\n",
    "        Scenariusz=\"Autor\",\n",
    "        Scenografia=\"Autor\",\n",
    "        Podziękowania=\"Python\")\n"
   ]
  },
  {
   "cell_type": "code",
   "execution_count": null,
   "metadata": {},
   "outputs": [],
   "source": []
  }
 ],
 "metadata": {
  "kernelspec": {
   "display_name": "Python 3 (ipykernel)",
   "language": "python",
   "name": "python3"
  },
  "language_info": {
   "codemirror_mode": {
    "name": "ipython",
    "version": 3
   },
   "file_extension": ".py",
   "mimetype": "text/x-python",
   "name": "python",
   "nbconvert_exporter": "python",
   "pygments_lexer": "ipython3",
   "version": "3.10.4"
  }
 },
 "nbformat": 4,
 "nbformat_minor": 2
}
