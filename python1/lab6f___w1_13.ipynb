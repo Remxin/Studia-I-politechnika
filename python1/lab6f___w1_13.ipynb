{
 "cells": [
  {
   "cell_type": "markdown",
   "id": "e999df4355d36e7a",
   "metadata": {
    "collapsed": false
   },
   "source": [
    "## Zadanie\n",
    "z d1 usuń elementy których klucze nie zawierają żadnej cyfry z Twojego nr_indeksu\n",
    "a ich wartości nie zawierają żadnej litery ani cyfry z Twojego imienia czy też nr_indeksu\n",
    "i utwórz z nich nowy słownik d2\n",
    "\n",
    "utwórz zbiór z1 zawierający wszystkie cyfry wystąpujące w kluczach  elementów pozostałych w d2\n",
    "oraz litery występujące w wartościach d1\n",
    "\n",
    "zwróć liczebność zbioru z1 jako w1\n"
   ]
  },
  {
   "cell_type": "code",
   "execution_count": 19,
   "id": "dc39d271d1108ec3",
   "metadata": {
    "collapsed": false
   },
   "outputs": [
    {
     "name": "stdout",
     "output_type": "stream",
     "text": [
      "18\n"
     ]
    }
   ],
   "source": [
    "nr_indeksu, imie, nazwisko = 151458, \"Krzysztof\", \"Łęczycki\"\n",
    "\n",
    "d1 = {'224': 'weer', '213': 'asgfd', '234': 'asdf', '233': 'ads'}\n",
    "d1[(0, 1, 2)] = 'jeden'\n",
    "d1[(1, 2, 3)] = 'dwa'\n",
    "d1[(1, 2, 4)] = ['a', 'b', 'p']\n",
    "d1[tuple([1, 2, 3, '5'])] = set(['a', 'b', 'c', 'e', 's', 'e', 'c', 'a'])\n",
    "\n",
    "d2 = {}\n",
    "for key, value in d1.items():\n",
    "    key_contains_digit = any(char.isdigit() for char in str(key))\n",
    "    value_contains_digit_or_name = any(char.isdigit() or char.lower() in imie.lower() for char in str(value))\n",
    "    if key_contains_digit and not value_contains_digit_or_name:\n",
    "        d2[key] = value\n",
    "\n",
    "z1 = set()\n",
    "for key in d2.keys():\n",
    "    for char in str(key):\n",
    "        if char.isdigit():\n",
    "            z1.add(char)\n",
    "for value in d1.values():\n",
    "    for char in str(value):\n",
    "        if char.isalpha():\n",
    "            z1.add(char)\n",
    "\n",
    "w1 = len(z1)\n",
    "\n",
    "print(w1) "
   ]
  },
  {
   "cell_type": "code",
   "execution_count": 16,
   "id": "433f570e2b0d7b76",
   "metadata": {
    "collapsed": false
   },
   "outputs": [
    {
     "name": "stdout",
     "output_type": "stream",
     "text": [
      "lab6f___w1_13.ipynb\n"
     ]
    }
   ],
   "source": [
    "print(f'lab6f___w1_{w1}.ipynb')"
   ]
  }
 ],
 "metadata": {
  "kernelspec": {
   "display_name": "Python 3",
   "language": "python",
   "name": "python3"
  },
  "language_info": {
   "codemirror_mode": {
    "name": "ipython",
    "version": 3
   },
   "file_extension": ".py",
   "mimetype": "text/x-python",
   "name": "python",
   "nbconvert_exporter": "python",
   "pygments_lexer": "ipython3",
   "version": "3.10.4"
  }
 },
 "nbformat": 4,
 "nbformat_minor": 5
}
