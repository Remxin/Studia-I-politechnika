{
 "cells": [
  {
   "cell_type": "markdown",
   "id": "c7eba2ac6f361",
   "metadata": {},
   "source": [
    "## Zadanie\n",
    "Napisz funkcję `f3d(nr_indeksu)` zwracającą `w1` następująco:\n",
    "W stringu `s1` znajdź wszystkie liczby całkowite dodatnie w których znajduje się conajmniej jedna cyfra z Twojego `nr_indeksu` różna od `1` i utwórz z nich listę `l1`.    \n",
    "(wszystkie znaki różne od cyfr są przerwami pomiędzy liczbami)\n",
    "    \n",
    "Z listy `l1` utwórz listę `l2` w której znajdą się wszystkie liczby większe od długości `l1`.\n",
    "Zwróć `w1` będące iloczynem Twojego `nr_indeksu` i `sum_13`, gdzie `sum_13` jest sumą `13` najmniejszych liczb z `l2`.\n",
    "\n",
    "przykład:\n",
    "```\n",
    "nr_indeksu, imie, nazwisko = 99003, 'Błażej', 'Kuś'\n",
    "s1: Hello World 123 svd vfv-45,4.2346 sa333\n",
    "l1: [2346, 333]\n",
    "l2: [333, 2346]\n",
    "w1: 265229037\n",
    "```"
   ]
  },
  {
   "cell_type": "code",
   "execution_count": null,
   "id": "dc39d271d1108ec3",
   "metadata": {},
   "outputs": [],
   "source": [
    "s1 = \"\"\"Hello World 123 svd vfv45446 3434545 5346654 - 43-334ferf grre-gfv fvewgr4543t34fv-dcavf fe-fev35tevefv\n",
    "      axsc 21e32 r42sacdc cdcca dcsc js1i24 234r e51  cdsf3rje dsf34852dkf n742 3r6f dc49383r cwjq2r32t8f \n",
    "      x ued328re d428rf hf4573 4rf3143=tH DJD 831r 2r fec438teff v38538q2frfr9fnf34frf349492rf 83\n",
    "      x hqwe357345rcn f ue39584u fet-05to  = fjr0353 t83 482 0f 9803 4rf3143=tH DJD 831r 2r fec438teff v38538q2frfr9f355nf34frf349492rf 83 x h234324 qwe357345rcn f ue39584u fet-05to   = fjr0353 t83 482 0f 9803 r4352 f5384r 848493 4895r34r f483t fdn34656y yu78768756b u3348f 853 fur853fjfjj49j439jjj433424c ed 3q8433 f384r 484\"\"\"\n",
    "\n",
    "# Your code here\n",
    "nr_indeksu, imie, nazwisko = 0, '', ''\n",
    "\n"
   ]
  },
  {
   "cell_type": "code",
   "execution_count": null,
   "id": "433f570e2b0d7b76",
   "metadata": {},
   "outputs": [],
   "source": [
    "print(f'lab5f___w1_{w1}.ipynb')"
   ]
  }
 ],
 "metadata": {
  "kernelspec": {
   "display_name": "Python 3 (ipykernel)",
   "language": "python",
   "name": "python3"
  },
  "language_info": {
   "codemirror_mode": {
    "name": "ipython",
    "version": 3
   },
   "file_extension": ".py",
   "mimetype": "text/x-python",
   "name": "python",
   "nbconvert_exporter": "python",
   "pygments_lexer": "ipython3",
   "version": "3.9.13"
  }
 },
 "nbformat": 4,
 "nbformat_minor": 5
}
