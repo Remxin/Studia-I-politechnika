{
 "cells": [
  {
   "cell_type": "code",
   "execution_count": 1,
   "id": "f2891b979a44117d",
   "metadata": {
    "ExecuteTime": {
     "end_time": "2024-03-20T14:58:06.690934400Z",
     "start_time": "2024-03-20T14:58:06.665604500Z"
    },
    "collapsed": false
   },
   "outputs": [],
   "source": [
    "# Podmień wartości poniższych zmiennych na Twoje personalia.\n",
    "# Imie i Nazwisko proszę pisać z polskimi literami i zaczynać od dużej litery.\n",
    "nr_indeksu, imie, nazwisko = 99003, 'Błażej', 'Kuś'"
   ]
  },
  {
   "cell_type": "markdown",
   "id": "e999df4355d36e7a",
   "metadata": {
    "collapsed": false
   },
   "source": [
    "## Zadanie\n",
    "Utwórz string `s1` będącey powtórzeniem Twojego imienia i nazwiska tyle razy ile wynosi reszta z dzielenia wartości Twojego numeru indeksu przez `99` (jeśli reszta wynosi `0`, to znajdź resztę z dzielenia przez `999`).\n",
    "przykład:\n",
    "```\n",
    "nr_indeksu, imie, nazwisko = 99003, 'Błażej', 'Kuś'\n",
    "s1: BłażejKuśBłażejKuśBłażejKuś\n",
    "```\n",
    "\n",
    "Napisz funkcję `f1` przyjmującą jako argument listę `lst1`, zawierającą elementy znajdujące się na parzystych pozycjach w stringu `s1`.\n",
    "przykład:\n",
    "```\n",
    "lst1 = ['B', 'a', 'e', 'K', 'ś', 'ł', 'ż', 'j', 'u', 'B', 'a', 'e', 'K', 'ś']\n",
    "```\n",
    "\n",
    "funkcja `f1` ma zwrócić `w1`, gdzie:\n",
    "`w1`: to suma kodów ASCII połowy elementów listy wejściowej `x` posortowanej malejąco (sortowana jest lista `x` według kodów ASCII),\n",
    "(połowa to - liczba całkowita z połowy długości `x`)\n"
   ]
  },
  {
   "cell_type": "code",
   "execution_count": 24,
   "id": "53dd0de1283fdffb",
   "metadata": {
    "ExecuteTime": {
     "end_time": "2024-03-12T16:03:30.842443200Z",
     "start_time": "2024-03-12T16:03:30.825431600Z"
    },
    "collapsed": false
   },
   "outputs": [],
   "source": [
    "# YOUR CODE HERE"
   ]
  },
  {
   "cell_type": "code",
   "execution_count": 16,
   "id": "433f570e2b0d7b76",
   "metadata": {
    "ExecuteTime": {
     "end_time": "2024-03-21T13:42:36.320499700Z",
     "start_time": "2024-03-21T13:42:36.283512500Z"
    },
    "collapsed": false
   },
   "outputs": [
    {
     "name": "stdout",
     "output_type": "stream",
     "text": [
      "DawidNabagłoDawidNabagłoDawidNabagłoDawidNabagłoDawidNabagłoDawidNabagłoDawidNabagłoDawidNabagłoDawidNabagłoDawidNabagłoDawidNabagłoDawidNabagłoDawidNabagłoDawidNabagłoDawidNabagłoDawidNabagłoDawidNabagłoDawidNabagłoDawidNabagłoDawidNabagłoDawidNabagłoDawidNabagłoDawidNabagłoDawidNabagłoDawidNabagłoDawidNabagłoDawidNabagłoDawidNabagłoDawidNabagłoDawidNabagłoDawidNabagłoDawidNabagłoDawidNabagłoDawidNabagłoDawidNabagłoDawidNabagłoDawidNabagłoDawidNabagłoDawidNabagłoDawidNabagłoDawidNabagłoDawidNabagłoDawidNabagłoDawidNabagłoDawidNabagłoDawidNabagłoDawidNabagłoDawidNabagłoDawidNabagłoDawidNabagłoDawidNabagłoDawidNabagłoDawidNabagłoDawidNabagłoDawidNabagłoDawidNabagłoDawidNabagłoDawidNabagłoDawidNabagłoDawidNabagłoDawidNabagłoDawidNabagłoDawidNabagłoDawidNabagłoDawidNabagłoDawidNabagłoDawidNabagłoDawidNabagłoDawidNabagłoDawidNabagłoDawidNabagłoDawidNabagłoDawidNabagłoDawidNabagłoDawidNabagłoDawidNabagłoDawidNabagłoDawidNabagłoDawidNabagłoDawidNabagłoDawidNabagłoDawidNabagłoDawidNabagłoDawidNabagłoDawidNabagłoDawidNabagłoDawidNabagłoDawidNabagłoDawidNabagłoDawidNabagłoDawidNabagłoDawidNabagłoDawidNabagłoDawidNabagłoDawidNabagło\n",
      "25935\n",
      "nazwa_notebooka: lab2f___w1_25935.ipynb\n"
     ]
    }
   ],
   "source": [
    "# przykład generowania zwracaanej nazwy tego notebooka\n",
    "# zamiast 999 wpisz obliczone przez Ciebie wartości\n",
    "nr_indexu = 151466\n",
    "imie = \"Dawid\"\n",
    "nazwisko = \"Nabagło\"\n",
    "\n",
    "\n",
    "def f1(tab):\n",
    "    wynik = [ord(x) for x in tab]\n",
    "    wynik.sort(reverse=True)\n",
    "\n",
    "    return sum(wynik[len(wynik)//2:])\n",
    "\n",
    "\n",
    "s1 = \"\".join([imie + nazwisko for x in range(0, nr_indexu%99)])\n",
    "print(s1)\n",
    "w1 = f1([*s1[1::2]])\n",
    "\n",
    "print(f1([*s1[1::2]]))\n",
    "\n",
    "\n",
    "nazwa_notebooka = f'lab2f___w1_{w1}.ipynb'\n",
    "print(f'nazwa_notebooka: {nazwa_notebooka}')"
   ]
  }
 ],
 "metadata": {
  "kernelspec": {
   "display_name": "Python 3",
   "language": "python",
   "name": "python3"
  },
  "language_info": {
   "codemirror_mode": {
    "name": "ipython",
    "version": 3
   },
   "file_extension": ".py",
   "mimetype": "text/x-python",
   "name": "python",
   "nbconvert_exporter": "python",
   "pygments_lexer": "ipython3",
   "version": "3.10.4"
  }
 },
 "nbformat": 4,
 "nbformat_minor": 5
}
