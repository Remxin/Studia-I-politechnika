{
 "cells": [
  {
   "cell_type": "markdown",
   "source": [
    "## Zadanie\n",
    "Napisz funkcję `moja_funkcja(fn_2)`, gdzie `fn_2` jest parametrem wejściowym.\n",
    "\n",
    "Funkcja `fn_2` posiada również jeden parametr wejściowy który jest stringiem\n",
    "i zwraca ona sumę wartości kodów `Unicode` liter z tego stringa   \n",
    "\n",
    "`moja_funkcja` ma za zadanie zwrócić funkcję `lambda` która:\n",
    "- przyjmuje jako argument jakiś string `s1` odwraca go i dla odwróconego wywołuje funkcję `fn_2`\n",
    "- (przykład: `koc` - string odwrócony: `cok`)\n",
    "\n",
    "Oblicz wartość `w1 = fn(nazwisko)` (Twoje nazwisko), gdzie `fn` to funkcja zwrócona przez `moja_funkcja`\n",
    "\n",
    "przykład:\n",
    "```\n",
    "nr_indeksu, imie, nazwisko = 1000, 'Błażej', 'Kuś'\n",
    "w1 = fn(nazwisko)\n",
    "w1: 539000\n",
    "```"
   ],
   "metadata": {
    "collapsed": false
   },
   "id": "e999df4355d36e7a"
  },
  {
   "cell_type": "code",
   "outputs": [],
   "source": [
    "nr_indeksu, imie, nazwisko = 0, '', ''\n",
    "\n",
    "# YOUR CODE HERE\n",
    "\n",
    "\n",
    "\n",
    "print(f'lab5e___w1_{w1}.ipynb')"
   ],
   "metadata": {
    "collapsed": false
   },
   "id": "53dd0de1283fdffb",
   "execution_count": null
  }
 ],
 "metadata": {
  "kernelspec": {
   "display_name": "Python 3",
   "language": "python",
   "name": "python3"
  },
  "language_info": {
   "codemirror_mode": {
    "name": "ipython",
    "version": 2
   },
   "file_extension": ".py",
   "mimetype": "text/x-python",
   "name": "python",
   "nbconvert_exporter": "python",
   "pygments_lexer": "ipython2",
   "version": "2.7.6"
  }
 },
 "nbformat": 4,
 "nbformat_minor": 5
}
