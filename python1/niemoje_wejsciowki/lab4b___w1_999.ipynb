{
 "cells": [
  {
   "cell_type": "code",
   "execution_count": 1,
   "id": "53dd0de1283fdffb",
   "metadata": {
    "collapsed": false
   },
   "outputs": [],
   "source": [
    "# dane są  definicje funkcji [lab2e, lab2f, lab2g, lab34ssde, labsdd2assde, labww2assde, lab2fggassde]:\n",
    "\n",
    "def lab2e(id):\n",
    "    return id * len(\"lab2e\")\n",
    "def lab2f(id):\n",
    "    return id * len(\"lab2f\")\n",
    "def lab2g(id):\n",
    "    return id * len(\"lab2g\")\n",
    "def lab34ssde(id):\n",
    "    return id * len(\"lab34ssde\")\n",
    "def labsdd2assde(id):\n",
    "    return id * len(\"labsdd2assde\")\n",
    "def labww2assde(id):\n",
    "    return id * len(\"labww2assde\")\n",
    "def lab2fggassde(id):\n",
    "    return id * len(\"lab2fggassde\")\n",
    "\n",
    "# dane są listy lab_names, lab_dates:\n",
    "lab_names = [\"lab2e\", \"lab2f\", \"lab2g\", \"lab34ssde\", \"labsdd2assde\", \"labww2assde\", \"lab2fggassde\"]\n",
    "\n",
    "lab_dates = [['2024_03_21_12', '2024_03_21_13'],\\\n",
    "            ['2024_03_21_14', '2024_03_21_15'],\\\n",
    "            ['2024_03_21_15', '2024_03_21_16'],\\\n",
    "            ['2024_03_26_17', '2024_03_26_18'],\\\n",
    "            ['2024_03_21_10', '2024_03_26_12'],\\\n",
    "            ['2024_03_15_11', '2024_03_15_12'],\\\n",
    "            ['2024_03_21_13', '2024_03_21_16']]\n"
   ]
  },
  {
   "cell_type": "markdown",
   "id": "b602cbfbf33181f2",
   "metadata": {
    "collapsed": false
   },
   "source": [
    "### Zadanie\n",
    "lista `lab_names` zawiera nazwy laboratoriów\n",
    "lista `lab_dates` zawiera przedziały czasowe w jakich się odbyły - pierwszy string  to rozpoczecie a drugi to zakończenie laboratorium\n",
    "\n",
    "utwórz słownik `dates_and_labs` którego kluczami będą pary będące przedziałami czasowymi z `lab_dates`\n",
    "(w dokładnie takiej samej kolejności jak elementy `lab_dates`),\n",
    "a wartościami zdefiniowane wcześniej FUNKCJE odpowiadające nazwom laboratoriów.\n",
    "\n",
    "napisz funkcję `f_w1(dates_and_labs, id)` która:\n",
    "dla wszystkich elementów słownika `dates_and_labs` których drugi element klucza zawiera jakąś cyfrę z numeru `id`\n",
    "wywoła odpowiedającą mu funkcję `val(id)`,\n",
    "wyniki zwracane przez funkcje `val(id)` (odpowiednie dla danego elementu słownika) należy zsumować i zwrócić jako `w1`\n",
    "\n",
    "```\n",
    "przykład:\n",
    "nr_indeksu, imie, nazwisko = 99003, 'Błażej', 'Kuś'\n",
    "w1 = f_w1(dates_and_labs, nr_indeksu)\n",
    "w1: 5841177\n",
    "```"
   ]
  },
  {
   "cell_type": "code",
   "execution_count": 11,
   "id": "433f570e2b0d7b76",
   "metadata": {
    "collapsed": false
   },
   "outputs": [
    {
     "name": "stdout",
     "output_type": "stream",
     "text": [
      "w1: 8936494\n",
      "nazwa_notebooka: lab4b___w1_8936494.ipynb\n"
     ]
    }
   ],
   "source": [
    "nr_indeksu, imie, nazwisko = 151466, \"Dawid\", \"Nabagło\"\n",
    "lab_names = [\"lab2e\", \"lab2f\", \"lab2g\", \"lab34ssde\", \"labsdd2assde\", \"labww2assde\", \"lab2fggassde\"]\n",
    "lab_dates = [['2024_03_21_12', '2024_03_21_13'],\n",
    "             ['2024_03_21_14', '2024_03_21_15'],\n",
    "             ['2024_03_21_15', '2024_03_21_16'],\n",
    "             ['2024_03_26_17', '2024_03_26_18'],\n",
    "             ['2024_03_21_10', '2024_03_26_12'],\n",
    "             ['2024_03_15_11', '2024_03_15_12'],\n",
    "             ['2024_03_21_13', '2024_03_21_16']]\n",
    "\n",
    "# Tworzenie słownika z przedziałami czasowymi jako kluczami i funkcjami jako wartościami\n",
    "dates_and_labs = {tuple(dates): globals()[name] for dates, name in zip(lab_dates, lab_names)}\n",
    "\n",
    "# Definicja funkcji f_w1\n",
    "def f_w1(dates_and_labs, id):\n",
    "    sum_result = 0\n",
    "    for dates, lab_func in dates_and_labs.items():\n",
    "        if any(str(digit) in dates[1] for digit in str(id)):\n",
    "            sum_result += lab_func(id)\n",
    "    return sum_result\n",
    "\n",
    "# Przykładowe wywołanie\n",
    "w1 = f_w1(dates_and_labs, nr_indeksu)\n",
    "print(\"w1:\", w1)\n",
    "\n",
    "\n",
    "w1 = f_w1(dates_and_labs, nr_indeksu)\n",
    "\n",
    "nazwa_notebooka = f'lab4b___w1_{w1}.ipynb'\n",
    "print(f'nazwa_notebooka: {nazwa_notebooka}')"
   ]
  }
 ],
 "metadata": {
  "kernelspec": {
   "display_name": "Python 3",
   "language": "python",
   "name": "python3"
  },
  "language_info": {
   "codemirror_mode": {
    "name": "ipython",
    "version": 3
   },
   "file_extension": ".py",
   "mimetype": "text/x-python",
   "name": "python",
   "nbconvert_exporter": "python",
   "pygments_lexer": "ipython3",
   "version": "3.10.4"
  }
 },
 "nbformat": 4,
 "nbformat_minor": 5
}
