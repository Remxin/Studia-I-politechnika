{
 "cells": [
  {
   "cell_type": "markdown",
   "id": "e999df4355d36e7a",
   "metadata": {
    "collapsed": false
   },
   "source": [
    "## Zadanie\n",
    "Napisz funkcję `moja_funkcja_1(fn_2)`, gdzie `fn_2` jest parametrem wejściowym.\n",
    "\n",
    "Funkcja `fn_2` posiada również jeden parametr wejściowy który jest stringiem\n",
    "i zwraca ona sumę wartości kodów `ASCII` liter z tego stringa   \n",
    "\n",
    "`moja_funkcja_1` ma za zadanie zwrócić funkcję `lambda` która:\n",
    "- przyjmuje jako argument jakiś string `s1` odwraca go i dla odwróconego wywołuje funkcję `fn_2`\n",
    "- (przykład: `koc` - string odwrócony: `cok`)\n",
    "\n",
    "Oblicz wartość `w1 = fn(nazwisko)` (Twoje nazwisko), gdzie `fn` to funkcja zwrócona przez `moja_funkcja`\n",
    "\n",
    "przykład:\n",
    "```\n",
    "nr_indeksu, imie, nazwisko = 1000, 'Błażej', 'Kuś'\n",
    "w1 = fn(nazwisko)\n",
    "w1: 539000\n",
    "```"
   ]
  },
  {
   "cell_type": "code",
   "execution_count": 3,
   "id": "53dd0de1283fdffb",
   "metadata": {
    "collapsed": false
   },
   "outputs": [
    {
     "name": "stdout",
     "output_type": "stream",
     "text": [
      "906\n",
      "ołgabaN\n",
      "lab3b___w1_906.ipynb\n"
     ]
    }
   ],
   "source": [
    "nr_indeksu, imie, nazwisko = 151466, 'Dawid', 'Nabagło'\n",
    "\n",
    "def moja_funckja_1(fn_2):\n",
    "    return lambda s1: fn_2(s1[::-1]) \n",
    "    \n",
    "\n",
    "def fn_2(s):\n",
    "    return sum([ord(c) for c in s])\n",
    "\n",
    "fn = moja_funckja_1(fn_2)\n",
    "\n",
    "w1 = fn(nazwisko)\n",
    "# YOUR CODE HERE\n",
    "\n",
    "\n",
    "\n",
    "print(f'lab3b___w1_{w1}.ipynb')"
   ]
  },
  {
   "cell_type": "code",
   "execution_count": null,
   "id": "5fadef22",
   "metadata": {},
   "outputs": [],
   "source": []
  }
 ],
 "metadata": {
  "kernelspec": {
   "display_name": "Python 3",
   "language": "python",
   "name": "python3"
  },
  "language_info": {
   "codemirror_mode": {
    "name": "ipython",
    "version": 3
   },
   "file_extension": ".py",
   "mimetype": "text/x-python",
   "name": "python",
   "nbconvert_exporter": "python",
   "pygments_lexer": "ipython3",
   "version": "3.11.6"
  }
 },
 "nbformat": 4,
 "nbformat_minor": 5
}
