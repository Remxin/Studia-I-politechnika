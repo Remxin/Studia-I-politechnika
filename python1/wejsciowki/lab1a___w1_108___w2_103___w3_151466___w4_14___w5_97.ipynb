{
 "cells": [
  {
   "cell_type": "code",
   "execution_count": 3,
   "id": "f2891b979a44117d",
   "metadata": {
    "ExecuteTime": {
     "end_time": "2024-03-14T18:07:15.615220900Z",
     "start_time": "2024-03-14T18:07:15.599117100Z"
    },
    "collapsed": false
   },
   "outputs": [],
   "source": [
    "# Podmień wartości poniższych zmiennych na Twoje personalia.\n",
    "# Imie i Nazwisko proszę pisać z polskimi literami i zaczynać od dużej litery.\n",
    "nr_indexu = 151466\n",
    "imie = \"Dawid\"\n",
    "nazwisko = \"Nabagło\""
   ]
  },
  {
   "cell_type": "markdown",
   "id": "e999df4355d36e7a",
   "metadata": {
    "collapsed": false
   },
   "source": [
    "## Zadanie\n",
    "Dana jest scieżka dostępu do pliku `path`:  \n",
    "`c:\\lab1\\rozwiązania\\versja\\n\\testów\\niedługich\\niekrótkich\\nr_indeksu_3000\\imię_Błażej\\nazwisko_Kuś.txt`\n",
    "z `path` utwórz ścieżkę `s1` podmieniając wartości `3000`, `Błażej`, `Kuś` na Twój `nr_indeksu`, `imie` i `nazwisko`\n",
    "\n",
    "**znajdź:**\n",
    "\n",
    "`w1`: dlugość scieżki `s1`\n",
    "\n",
    "`w2`: dlugosc stringa `s2` utworzonego z `s1` poprzez zamianę wszystkich znaków `\\` na `|`\n",
    "przykład:\n",
    "```\n",
    "s2 = c:|lab1|rozwiązania|versja|n|testów|niedługich|niekrótkich|nr_indeksu_3000|imię_Błażej|nazwisko_Kuś.txt\n",
    "w2 = 103\n",
    "```\n",
    "\n",
    "`w3`: dodaj wynik porównania `w1` z `w2` do ostatniej cyfry Twojego numeru indeksu\n",
    "\n",
    "`w4`: suma ilości znaków z `s1` i `s2` które nie są znakami ASCII (kod > 127)\n",
    "\n",
    "`w5`: liczba samogłosek w `s1`, `samogloski: 'aąeęiouóyAĄEĘIOUÓY'`  \n"
   ]
  },
  {
   "cell_type": "code",
   "execution_count": 3,
   "id": "53dd0de1283fdffb",
   "metadata": {
    "ExecuteTime": {
     "end_time": "2024-03-12T16:03:30.842443200Z",
     "start_time": "2024-03-12T16:03:30.825431600Z"
    },
    "collapsed": false
   },
   "outputs": [
    {
     "name": "stdout",
     "output_type": "stream",
     "text": [
      "nazwa notebooka: labla___w1_108___w2_103___w3_151466___w4_14___w5_97.ipynb\n"
     ]
    },
    {
     "data": {
      "text/plain": [
       "' lab1a___w1_108___w2_103___w3_151466___w4_151466___w5_97.ipynb'"
      ]
     },
     "execution_count": 3,
     "metadata": {},
     "output_type": "execute_result"
    }
   ],
   "source": [
    "s1 = \"c:\\lab1\\\\rozwiązania\\\\versja\\\\n\\\\testów\\\\niedługich\\\\niekrótkich\\\\nr_indeksu_3000\\imię_Błażej\\\\nazwisko_Kuś.txt\"\n",
    "nr_indexu = \"151466\"\n",
    "imie = \"Dawid\"\n",
    "nazwisko = \"Nabagło\"\n",
    "\n",
    "\n",
    "def podmien(s):\n",
    "    s = s.replace(\"3000\", nr_indexu)\n",
    "    s = s.replace(\"Błażej\", imie)\n",
    "    s= s.replace(\"Kuś\", nazwisko)\n",
    "    return s\n",
    "def gets2(s):\n",
    "    s = s.replace(\"\\\\\", \"|\")\n",
    "    return s\n",
    "\n",
    "def sumASCII(s):\n",
    "    sum = 0\n",
    "    for c in s:\n",
    "        if ord(c) > 127:\n",
    "            sum += 1\n",
    "    return sum\n",
    "\n",
    "def vowels(s):\n",
    "    sum = 0\n",
    "    v = \"aąeęiouóyAĄEĘIOUÓY\"\n",
    "    for c in s:\n",
    "        if v.find(c):\n",
    "            sum += 1\n",
    "\n",
    "    return sum\n",
    "\n",
    "\n",
    "s2 = podmien(s1)\n",
    "w1 = len(s2)\n",
    "tekst = gets2(s1)\n",
    "w2 = len(tekst)\n",
    "w3 = str(int(nr_indexu) + int(w1 == w2))\n",
    "w4 = sumASCII(s1) + sumASCII(s2)\n",
    "# w5 = \"999\"\n",
    "# wynik = sum(s1) + sum(s2)\n",
    "w5 = vowels(s1)\n",
    "# print(str(wynik))\n",
    "nazwa_notebooka = f'labla___w1_{w1}___w2_{w2}___w3_{w3}___w4_{w4}___w5_{w5}.ipynb'\n",
    "print(\"nazwa notebooka:\", nazwa_notebooka)\n",
    "\"lab1a___w1_108___w2_103___w3_151466___w4_14___w5_97.ipynb\""
   ]
  },
  {
   "cell_type": "code",
   "execution_count": 3,
   "id": "433f570e2b0d7b76",
   "metadata": {
    "ExecuteTime": {
     "end_time": "2024-03-14T17:58:45.421126500Z",
     "start_time": "2024-03-14T17:58:45.403533Z"
    },
    "collapsed": false
   },
   "outputs": [
    {
     "name": "stdout",
     "output_type": "stream",
     "text": [
      "nazwa_notebooka: lab1a___w1_999___w2_999___w3_999___w4_999___w5_999.ipynb\n"
     ]
    }
   ],
   "source": [
    "# przykład generowania zwracaanej nazwy tego notebooka\n",
    "# zamiast 999 wpisz obliczone przez Ciebie wartości\n",
    "\n",
    "w1 = 999\n",
    "w2 = 999\n",
    "w3 = 999\n",
    "w4 = 999\n",
    "w5 = 999\n",
    "\n",
    "nazwa_notebooka = f'lab1a___w1_{w1}___w2_{w2}___w3_{w3}___w4_{w4}___w5_{w5}.ipynb'\n",
    "print(f'nazwa_notebooka: {nazwa_notebooka}')"
   ]
  }
 ],
 "metadata": {
  "kernelspec": {
   "display_name": "Python 3",
   "language": "python",
   "name": "python3"
  },
  "language_info": {
   "codemirror_mode": {
    "name": "ipython",
    "version": 3
   },
   "file_extension": ".py",
   "mimetype": "text/x-python",
   "name": "python",
   "nbconvert_exporter": "python",
   "pygments_lexer": "ipython3",
   "version": "3.10.4"
  }
 },
 "nbformat": 4,
 "nbformat_minor": 5
}
