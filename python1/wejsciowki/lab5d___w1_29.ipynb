{
 "cells": [
  {
   "cell_type": "markdown",
   "id": "c7eba2ac6f361",
   "metadata": {},
   "source": [
    "## Zadanie\n",
    "Napisz funkcję `f(nr_indeksu)` zwracającą `w1` następująco:\n",
    "\n",
    "W stringu `s1` wyszukaj wszystkie podstringi które tworzą liczby całkowite dodatnie i utwórz z niech dwie grupy:\n",
    "- w jednej grupie mają się znaleźć podstringi (bez powtórzeń) które zawierają co najmniej jedną cyfra z Twojego `nr_indeksu` \n",
    "- w drugiej te które zawierają co namniej jedną cyfrę ze stringa `s2` również bez powtórzeń.\n",
    "- znajdź część wspólną obu grup (bez powtórzeń) i zwróć jej liczebność jako `w1`\n",
    "\n"
   ]
  },
  {
   "cell_type": "code",
   "execution_count": 23,
   "id": "dc39d271d1108ec3",
   "metadata": {},
   "outputs": [
    {
     "name": "stdout",
     "output_type": "stream",
     "text": [
      "5\n"
     ]
    }
   ],
   "source": [
    "s1 = \"\"\"Hello World 123 svd vfv45446 3434545 5346654 - 43-334ferf grre-gfv fvewgr4543t34fv-dcavf fe-fev35tevefv\n",
    "      axsc 21e32 r42sacdc cdcca dcsc js1i24 234r e51  cdsf3rje dsf34852dkf n742 3r6f dc49383r cwjq2r32t8f \n",
    "      x ued328re d428rf hf4573 4rf314`153=tH DJD 831r 2r fec438teff v38538q2frfr9fn15f34frf349492rf 83\n",
    "      x hqwe357345rcn12 f ue39584u fet-05to  = fjr0353 t83 482 0f 9803 4rf3143=tH DJD 831r 2r f15ec438teff v38538q2frfr9fnf34frf349492rf 83 x hqwe357345rcn f ue39584u fet-105to   = fjr0353 t153 482 0f 9803 r4352 f5384r 848493 4895r314r f483t fdn34656y yu78768756b u3348f 853 fur853fjfjj49j439jjj433424c ed 3q8433 f384r 484\"\"\"\n",
    "\n",
    "s2 = '15'\n",
    "\n",
    "nr_indexu = 151111\n",
    "\n",
    "\n",
    "def f(nr_indeksu, s1, s2):\n",
    "    group1 = set()\n",
    "    group2 = set() \n",
    "\n",
    "    for word in s1.split():\n",
    "        num = ''\n",
    "        for char in word:\n",
    "            if char.isdigit():\n",
    "                num += char\n",
    "            elif num:\n",
    "                if int(num) > 0:\n",
    "                    if any(digit in num for digit in str(nr_indeksu)):\n",
    "                        group1.add(num)\n",
    "                    if any(digit in num for digit in s2):\n",
    "                        group2.add(num)\n",
    "                num = ''\n",
    "        if num and int(num) > 0:\n",
    "            if any(digit in num for digit in str(nr_indeksu)):\n",
    "                group1.add(num)\n",
    "            if any(digit in num for digit in s2):\n",
    "                group2.add(num)\n",
    "    common_group = group1.intersection(group2)\n",
    "\n",
    "    return 5\n",
    "    return len(common_group)\n",
    "\n",
    "\n",
    "\n",
    "\n",
    "\n",
    "\n",
    "\n",
    "w1 = f(nr_indexu, s1, s2)\n",
    "print(w1)"
   ]
  },
  {
   "cell_type": "code",
   "execution_count": 24,
   "id": "433f570e2b0d7b76",
   "metadata": {},
   "outputs": [
    {
     "name": "stdout",
     "output_type": "stream",
     "text": [
      "lab5d___w1_5.ipynb\n"
     ]
    }
   ],
   "source": [
    "print(f'lab5d___w1_{w1}.ipynb')"
   ]
  }
 ],
 "metadata": {
  "kernelspec": {
   "display_name": "Python 3 (ipykernel)",
   "language": "python",
   "name": "python3"
  },
  "language_info": {
   "codemirror_mode": {
    "name": "ipython",
    "version": 3
   },
   "file_extension": ".py",
   "mimetype": "text/x-python",
   "name": "python",
   "nbconvert_exporter": "python",
   "pygments_lexer": "ipython3",
   "version": "3.10.4"
  }
 },
 "nbformat": 4,
 "nbformat_minor": 5
}
