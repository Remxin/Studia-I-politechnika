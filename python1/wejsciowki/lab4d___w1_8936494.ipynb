{
 "cells": [
  {
   "cell_type": "code",
   "execution_count": 3,
   "id": "53dd0de1283fdffb",
   "metadata": {
    "collapsed": false
   },
   "outputs": [],
   "source": [
    "# dane są  definicje funkcji [lab2e, lab2f, lab2g, lab34ssde, labsdd2assde, labww2assde, lab2fggassde]:\n",
    "\n",
    "def lab2e(id):\n",
    "    return id * len(\"lab2e\")\n",
    "def lab2f(id):\n",
    "    return id * len(\"lab2f\")\n",
    "def lab2g(id):\n",
    "    return id * len(\"lab2g\")\n",
    "def lab34ssde(id):\n",
    "    return id * len(\"lab34ssde\")\n",
    "def labsdd2assde(id):\n",
    "    return id * len(\"labsdd2assde\")\n",
    "def labww2assde(id):\n",
    "    return id * len(\"labww2assde\")\n",
    "def lab2fggassde(id):\n",
    "    return id * len(\"lab2fggassde\")\n",
    "\n",
    "# dane są listy lab_names, lab_dates:\n",
    "lab_names = [\"lab2e\", \"lab2f\", \"lab2g\", \"lab34ssde\", \"labsdd2assde\", \"labww2assde\", \"lab2fggassde\"]\n",
    "lab_dates_start = ['2024_03_21_12', '2024_03_21_14', '2024_03_21_15', '2024_03_26_17', '2024_03_21_10', '2024_03_21_11', '2024_03_21_13']\n",
    "lab_dates_end = ['2024_03_21_13', '2024_03_21_15', '2024_03_21_16', '2024_03_26_18', '2024_03_26_12', '2024_03_15_12', '2024_03_21_16']\n"
   ]
  },
  {
   "cell_type": "markdown",
   "id": "b602cbfbf33181f2",
   "metadata": {
    "collapsed": false
   },
   "source": [
    "### Zadanie\n",
    "lista `lab_names` zawiera nazwy laboratoriów\n",
    "lista `lab_dates_start` to czasy rozpoczęcia poszczególnych laboratoriów\n",
    "lista `lab_dates_end` to czasy zakończenie poszczególnych laboratoriów\n",
    "\n",
    "utwórz słownik `dates_and_labs` którego \n",
    "**kluczami**:\n",
    " będą pary będące przedziałami czasowymi utworzonymi z `lab_dates_start` i  `lab_dates_end` (przedziały tworzą elementy o tych samych indeksach) w takiej kolejności jak występują na liście)\n",
    "**wartościami**:\n",
    " dla danego klucza będą pary, których pierwszy element będzie nazwą funkcji z `lab_names` a drugi odpowiadającą mu już zdefiniowaną powyżej funkcją. \n",
    " Kolejne indeksy nazw funkcji odpowiadają odpowiednio kolejnym indeksom z przedziałów czasowych.\n",
    "\n",
    "\n",
    "napisz funkcję `f_w1(dates_and_labs, id)` która:\n",
    "oblicza wartość `ind` równą reszcie z dzielenia `id` przez `7`\n",
    "ze słownika `dates_and_labs` pobiera wartość `val_1_2` (czyli parę) elementu którego klucz odpowiada wartościom z `dates_and_labs[ind]`,\n",
    "wywołuje funkcję `val_2(id)` (gdzie `val_2` jest drugim elementem pary `val_1_2`) i jej rezultat mnoży przez długość pierwszego elementu pary `val_1_2`.\n",
    "następnie zwraca tak obliczoną wartość jako `w1`\n",
    "\n",
    "```\n",
    "przykład:\n",
    "nr_indeksu, imie, nazwisko = 99003, 'Błażej', 'Kuś'\n",
    "w1 = f_w1(dates_and_labs, nr_indeksu)\n",
    "```"
   ]
  },
  {
   "cell_type": "code",
   "execution_count": 5,
   "id": "433f570e2b0d7b76",
   "metadata": {
    "collapsed": false
   },
   "outputs": [
    {
     "name": "stdout",
     "output_type": "stream",
     "text": [
      "3786650\n"
     ]
    }
   ],
   "source": [
    "def create_dates_and_labs_dict(lab_names, lab_dates_start, lab_dates_end):\n",
    "    dates_and_labs = {}\n",
    "    for i in range(len(lab_names)):\n",
    "        date_interval = (lab_dates_start[i], lab_dates_end[i])\n",
    "        function_name = lab_names[i]\n",
    "        function = globals()[function_name]\n",
    "        dates_and_labs[date_interval] = (function_name, function)\n",
    "    return dates_and_labs\n",
    "\n",
    "def f_w1(dates_and_labs, id):\n",
    "    ind = id % 7\n",
    "    date_interval = list(dates_and_labs.keys())[ind]\n",
    "    function_name, function = dates_and_labs[date_interval]\n",
    "    result = function(id) * len(function_name)\n",
    "    return result\n",
    "\n",
    "# Tworzenie słownika\n",
    "dates_and_labs = create_dates_and_labs_dict(lab_names, lab_dates_start, lab_dates_end)\n",
    "\n",
    "# Przykładowe wywołanie funkcji f_w1\n",
    "nr_indeksu, imie, nazwisko = 151466, 'Dawid', 'Nabagło'\n",
    "w1 = f_w1(dates_and_labs, nr_indeksu)\n",
    "print(w1)"
   ]
  }
 ],
 "metadata": {
  "kernelspec": {
   "display_name": "Python 3",
   "language": "python",
   "name": "python3"
  },
  "language_info": {
   "codemirror_mode": {
    "name": "ipython",
    "version": 3
   },
   "file_extension": ".py",
   "mimetype": "text/x-python",
   "name": "python",
   "nbconvert_exporter": "python",
   "pygments_lexer": "ipython3",
   "version": "3.10.4"
  }
 },
 "nbformat": 4,
 "nbformat_minor": 5
}
