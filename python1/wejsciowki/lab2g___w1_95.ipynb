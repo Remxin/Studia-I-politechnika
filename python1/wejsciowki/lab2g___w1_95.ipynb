{
 "cells": [
  {
   "cell_type": "code",
   "execution_count": 1,
   "id": "f2891b979a44117d",
   "metadata": {
    "ExecuteTime": {
     "end_time": "2024-03-20T14:58:06.690934400Z",
     "start_time": "2024-03-20T14:58:06.665604500Z"
    },
    "collapsed": false
   },
   "outputs": [],
   "source": [
    "# Podmień wartości poniższych zmiennych na Twoje personalia.\n",
    "# Imie i Nazwisko proszę pisać z polskimi literami i zaczynać od dużej litery.\n",
    "nr_indeksu, imie, nazwisko = 99003, 'Błażej', 'Kuś'"
   ]
  },
  {
   "cell_type": "markdown",
   "id": "e999df4355d36e7a",
   "metadata": {
    "collapsed": false
   },
   "source": [
    "## Zadanie\n",
    "Utwórz string `s1` będącey powtórzeniem Twojego imienia i nazwiska tyle razy ile wynosi reszta z dzielenia wartości Twojego numeru indeksu przez `99` (jeśli reszta wynosi `0`, to znajdź resztę z dzielenia przez `999`)\n",
    "przykład:\n",
    "```\n",
    "nr_indeksu, imie, nazwisko = 99003, 'Błażej', 'Kuś'\n",
    "s1: BłażejKuśBłażejKuśBłażejKuś\n",
    "```\n",
    "Utwórz listę `lst1` zawierającą elementy znajdujące się na NIEPARZYSTYCH pozycjach w stringu `s1`\n",
    "przykład dla PARZYSTYCH:\n",
    "```\n",
    "lst1 = ['B', 'a', 'e', 'K', 'ś', 'ł', 'ż', 'j', 'u', 'B', 'a', 'e', 'K', 'ś']\n",
    "```\n",
    "Napisz funkcję `f3` która jako argument przyjmuje listę `lst1` oraz ma za zadanie:\n",
    "- z elementów listy wejściowej `lst1` utwórzyć string `s2` w którym  wszystkie litery `a` i `e` zostaną zamienione na znak podkreślnika `_`,\n",
    "- zwrócić liczbę NIEPUSTYCH podstringów z `s2` (podstringi to wyrazy odseparowane od innych znakami `_`)\n",
    "\n",
    "przykład:\n",
    "```\n",
    "s2: ałżjuBaeKśłżjua\n",
    "niepuste stringi: 'łżjuB', 'eKśłżju'\n",
    "```\n",
    "albo:\n",
    "```\n",
    "s2: BaeKśłżjuBaeKś\n",
    "niepuste stringi: 'B', 'eKśłżjuB', 'eKś'\n",
    "```\n",
    "\n",
    "w1: to wartość zwracana przez funkcję f3"
   ]
  },
  {
   "cell_type": "code",
   "execution_count": 24,
   "id": "53dd0de1283fdffb",
   "metadata": {
    "ExecuteTime": {
     "end_time": "2024-03-12T16:03:30.842443200Z",
     "start_time": "2024-03-12T16:03:30.825431600Z"
    },
    "collapsed": false
   },
   "outputs": [],
   "source": [
    "# YOUR CODE HERE"
   ]
  },
  {
   "cell_type": "code",
   "execution_count": 1,
   "id": "433f570e2b0d7b76",
   "metadata": {
    "ExecuteTime": {
     "end_time": "2024-03-21T12:21:49.032032700Z",
     "start_time": "2024-03-21T12:21:49.001855900Z"
    },
    "collapsed": false
   },
   "outputs": [
    {
     "name": "stdout",
     "output_type": "stream",
     "text": [
      "noiihlzknoiihlzknoiihlzknoiihlzknoiihlzknoiihlzknoiihlzknoiihlzknoiihlzknoiihlzknoiihlzknoiihlzknoiihlzknoiihlzknoiihlzknoiihlzknoiihlzknoiihlzknoiihlzknoiihlzknoiihlzknoiihlzknoiihlzknoiihlzknoiihlzknoiihlzknoiihlzknoiihlzknoiihlzknoiihlzknoiihlzknoiihlzknoiihlzknoiihlzknoiihlzknoiihlzknoiihlzknoiihlzknoiihlzknoiihlzknoiihlzknoiihlzknoiihlzknoiihlzknoiihlzknoiihlzknoiihlzknoiihlzknoiihlzknoiihlzknoiihlzknoiihlzknoiihlzknoiihlzknoiihlzknoiihlzknoiihlzknoiihlzknoiihlzknoiihlzknoiihlzknoiihlzknoiihlzknoiihlzknoiihlzknoiihlzknoiihlzknoiihlzknoiihlzknoiihlzknoiihlzknoiihlzknoiihlzknoiihlzknoiihlzknoiihlzknoiihlzknoiihlzknoiihlzknoiihlzknoiihlzknoiihlzknoiihlzknoiihlzknoiihlzknoiihlzknoiihlzknoiihlzknoiihlzknoiihlzk\n",
      "nazwa_notebooka: lab2g___w1_1.ipynb\n"
     ]
    }
   ],
   "source": [
    "# przykład generowania zwracaanej nazwy tego notebooka\n",
    "# zamiast 999 wpisz obliczone przez Ciebie wartości\n",
    "nr_indexu = 151466\n",
    "imie = \"Dawid\"\n",
    "nazwisko = \"Nabagło\"\n",
    "\n",
    "def f3(l):\n",
    "    l = l.replace(\"a\", \"_\")\n",
    "    l = l.replace(\"e\", \"_\")\n",
    "    print(l)\n",
    "    l = l.split(\"_\")\n",
    "    ret = 0\n",
    "    for e in l:\n",
    "        if (e != \"\"): \n",
    "            ret += 1\n",
    "\n",
    "    return ret\n",
    "\n",
    "\n",
    "s1 = \"\".join([imie + nazwisko for x in range(0, nr_indexu%99)])\n",
    "lst1 = s1[1::2]\n",
    "\n",
    "\n",
    "w1 = f3(lst1)\n",
    "\n",
    "nazwa_notebooka = f'lab2g___w1_{w1}.ipynb'\n",
    "print(f'nazwa_notebooka: {nazwa_notebooka}')"
   ]
  }
 ],
 "metadata": {
  "kernelspec": {
   "display_name": "Python 3",
   "language": "python",
   "name": "python3"
  },
  "language_info": {
   "codemirror_mode": {
    "name": "ipython",
    "version": 3
   },
   "file_extension": ".py",
   "mimetype": "text/x-python",
   "name": "python",
   "nbconvert_exporter": "python",
   "pygments_lexer": "ipython3",
   "version": "3.10.4"
  }
 },
 "nbformat": 4,
 "nbformat_minor": 5
}
