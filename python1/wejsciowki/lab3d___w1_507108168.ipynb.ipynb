{
 "cells": [
  {
   "cell_type": "markdown",
   "id": "e999df4355d36e7a",
   "metadata": {
    "collapsed": false
   },
   "source": [
    "## Zadanie\n",
    "Napisz funkcję `f3d(nr_indeksu)` zwracającą `w1` następująco:\n",
    "W stringu `s1` znajdź wszystkie liczby całkowite dodatnie w których znajduje się conajmniej jedna cyfra z Twojego nr_indeksu i utwórz z nich listę `l1`.    \n",
    "(wszystkie znaki różne od cyfr są przerwami pomiędzy liczbami)\n",
    "    \n",
    "Z listy `l1` utwórz listę `l2` w której znajdą się wszystkie liczby większe od długości `l1` posortowane rosnąco.\n",
    "Zwróć `w1` będące iloczynem Twojego `nr_indeksu` i liczby ze środkowej pozycji `l2` (środkowa pozycja to `len(l2)//2`).\n",
    "\n",
    "przykład:\n",
    "```\n",
    "\n",
    "nr_indeksu, imie, nazwisko = 99003, 'Błażej', 'Kuś'\n",
    "s1: Hello World 123 svd vfv-45,4.2346 sa333\n",
    "l1: [123, 2346, 333]\n",
    "l2: [123, 333, 2346]\n",
    "w1: 32967999\n",
    "```"
   ]
  },
  {
   "cell_type": "code",
   "execution_count": 29,
   "id": "dc39d271d1108ec3",
   "metadata": {
    "collapsed": false
   },
   "outputs": [
    {
     "data": {
      "text/plain": [
       "507108168"
      ]
     },
     "execution_count": 29,
     "metadata": {},
     "output_type": "execute_result"
    }
   ],
   "source": [
    "import re\n",
    "\n",
    "def split_by_non_digit_characters(s):\n",
    "    return re.split(r'\\D+', s)\n",
    "\n",
    "\n",
    "nr_indexu = 151466\n",
    "imie = \"Dawid\"\n",
    "nazwisko = \"Nabagło\"\n",
    "\n",
    "def f3d(s):\n",
    "    ret = []\n",
    "    cyfry_index = str(nr_indexu)\n",
    "    a = split_by_non_digit_characters(s)[1:]\n",
    "    for e in a:\n",
    "        for c in e:\n",
    "            if c in cyfry_index:\n",
    "                ret.append(int(e))\n",
    "                break\n",
    "\n",
    "    return ret\n",
    "      \n",
    "   \n",
    "\n",
    "\n",
    "\n",
    "s1 = \"\"\"Hello World 123 svd vfv45446 3434545 5346654 - 43-334ferf grre-gfv fvewgr4543t34fv-dcavf fe-fev35tevefv\n",
    "      axsc 21e32 r42sacdc cdcca dcsc js1i24 234r e51  cdsf3rje dsf34852dkf n742 3r6f dc49383r cwjq2r32t8f \n",
    "      x ued328re d428rf hf4573 4rf3143=tH DJD 831r 2r fec438teff v38538q2frfr9fnf34frf349492rf 83\n",
    "      x hqwe357345rcn f ue39584u fet-05to   = fjr0353 t83 482 0f 9803 r4352 f5384r 848493 4895r34r f483t \n",
    "      fdnu3348f 853 fur853fjfjj49j439jjj433424c ed 3q8433 f384r 484\"\"\"\n",
    "\n",
    "# Your code here\n",
    "\n",
    "l1 = f3d(s1)\n",
    "lenl1 = len(l1)\n",
    "l2 = []\n",
    "for l in l1:\n",
    "    if l > lenl1:\n",
    "        l2.append(l)\n",
    "\n",
    "l2.sort()\n",
    "\n",
    "w1 = nr_indexu * l2[len(l2)//2]\n",
    "w1\n",
    "\n"
   ]
  },
  {
   "cell_type": "code",
   "execution_count": 30,
   "id": "433f570e2b0d7b76",
   "metadata": {
    "collapsed": false
   },
   "outputs": [
    {
     "name": "stdout",
     "output_type": "stream",
     "text": [
      "lab3d___w1_507108168.ipynb\n"
     ]
    }
   ],
   "source": [
    "print(f'lab3d___w1_{w1}.ipynb')"
   ]
  }
 ],
 "metadata": {
  "kernelspec": {
   "display_name": "Python 3",
   "language": "python",
   "name": "python3"
  },
  "language_info": {
   "codemirror_mode": {
    "name": "ipython",
    "version": 3
   },
   "file_extension": ".py",
   "mimetype": "text/x-python",
   "name": "python",
   "nbconvert_exporter": "python",
   "pygments_lexer": "ipython3",
   "version": "3.10.4"
  }
 },
 "nbformat": 4,
 "nbformat_minor": 5
}
