{
 "cells": [
  {
   "cell_type": "markdown",
   "id": "e999df4355d36e7a",
   "metadata": {
    "collapsed": false
   },
   "source": [
    "### Rozkodowanie własnych wyników "
   ]
  },
  {
   "cell_type": "code",
   "execution_count": 2,
   "id": "53dd0de1283fdffb",
   "metadata": {
    "collapsed": false
   },
   "outputs": [
    {
     "name": "stdout",
     "output_type": "stream",
     "text": [
      "{\n",
      "    \"lab_1\": {\n",
      "        \"ans\": \"lab1a___w1_108___w2_103___w3_151466___w4_14___w5_97.ipynb\",\n",
      "        \"ref\": \"lab1a___w1_108___w2_108___w3_7___w4_12___w5_33.ipynb\",\n",
      "        \"date\": \"2024_03_15_11_32\",\n",
      "        \"grade\": 0\n",
      "    },\n",
      "    \"lab_2\": {\n",
      "        \"ans\": \"lab2g___w1_95.ipynb\",\n",
      "        \"ref\": \"lab2g___w1_95.ipynb\",\n",
      "        \"date\": \"2024_03_21_15_38\",\n",
      "        \"grade\": 1\n",
      "    }\n",
      "}\n"
     ]
    }
   ],
   "source": [
    "from cryptography.fernet import Fernet\n",
    "import json\n",
    "\n",
    "def dic_decrypt_from_str(data_str, my_secret_key: str) -> dict:\n",
    "    fernet = Fernet(my_secret_key)\n",
    "    my_string_decoded = fernet.decrypt(data_str)\n",
    "    return json.loads(my_string_decoded)\n",
    "\n",
    "\n",
    "def decrypt_results(lab_results_json, nr_indeksu, my_secret_key):\n",
    "    results_dic = json.load(open(lab_results_json))\n",
    "    my_results_str = results_dic[nr_indeksu]\n",
    "    my_results_dic = dic_decrypt_from_str(my_results_str, my_secret_key)\n",
    "    print(json.dumps(my_results_dic, indent=4))\n",
    "    return my_results_dic\n",
    "\n",
    "\n",
    "lab_results_json = rf'PP_lab_results-2.json'\n",
    "nr_indeksu = 151466\n",
    "\n",
    "with open(\"my_secret_key.dat\", \"rb\") as f:\n",
    "    my_secret_key = f.read()\n",
    "    my_secret_key = my_secret_key.decode()\n",
    "\n",
    "my_results = decrypt_results(lab_results_json, str(nr_indeksu), my_secret_key)\n"
   ]
  }
 ],
 "metadata": {
  "kernelspec": {
   "display_name": "Python 3",
   "language": "python",
   "name": "python3"
  },
  "language_info": {
   "codemirror_mode": {
    "name": "ipython",
    "version": 3
   },
   "file_extension": ".py",
   "mimetype": "text/x-python",
   "name": "python",
   "nbconvert_exporter": "python",
   "pygments_lexer": "ipython3",
   "version": "3.10.4"
  }
 },
 "nbformat": 4,
 "nbformat_minor": 5
}
